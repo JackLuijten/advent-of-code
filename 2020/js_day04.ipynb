{
 "cells": [
  {
   "cell_type": "code",
   "execution_count": 48,
   "metadata": {
    "collapsed": true,
    "ExecuteTime": {
     "end_time": "2023-11-19T08:12:09.978417800Z",
     "start_time": "2023-11-19T08:12:09.963838200Z"
    }
   },
   "outputs": [
    {
     "name": "stdout",
     "output_type": "stream",
     "text": [
      "237\n",
      "172\n"
     ]
    }
   ],
   "source": [
    "import json\n",
    "import re\n",
    "\n",
    "with open('data/day04.csv', 'r') as input:\n",
    "    data = [x.replace('\\n',' ') for x in input.read().split('\\n\\n')]\n",
    "\n",
    "validpassports = 0\n",
    "validdata = 0\n",
    "\n",
    "for row in data:\n",
    "    valid = False\n",
    "    correctfields = 0\n",
    "\n",
    "    rowdict = dict()\n",
    "    for elem in row.split(' '):\n",
    "        k, v = elem.split(':')\n",
    "        rowdict[k] = v\n",
    "\n",
    "    if len(rowdict.keys()) == 8:\n",
    "        validpassports += 1\n",
    "        valid = True\n",
    "    elif len(rowdict.keys()) == 7 and not 'cid' in rowdict.keys():\n",
    "        validpassports += 1\n",
    "        valid = True\n",
    "\n",
    "    if valid:\n",
    "        try:\n",
    "            correctfields += True if 1920 <= int(rowdict['byr']) <= 2002 else False # Birth Year\n",
    "        except ValueError:\n",
    "            continue\n",
    "\n",
    "        try:\n",
    "            correctfields += True if 2010 <= int(rowdict['iyr']) <= 2020 else False # Issue Year\n",
    "        except ValueError:\n",
    "            continue\n",
    "\n",
    "        try:\n",
    "            correctfields += True if 2020 <= int(rowdict['eyr']) <= 2030 else False # Expiration Year\n",
    "        except ValueError:\n",
    "            continue\n",
    "\n",
    "        try:\n",
    "            correctfields += True if (150 <= int(rowdict['hgt'][:-2]) <= 193 and rowdict['hgt'][-2:] == 'cm') or \\\n",
    "                            (59 <= int(rowdict['hgt'][:-2]) <= 76 and rowdict['hgt'][-2:] == 'in') else False # Height\n",
    "        except ValueError:\n",
    "            continue\n",
    "\n",
    "        try:\n",
    "            correctfields += True if len(rowdict['pid']) == 9 and isinstance(int(rowdict['pid']), int) else False # Passport ID\n",
    "        except ValueError:\n",
    "            continue\n",
    "        except KeyError:\n",
    "            continue\n",
    "\n",
    "        correctfields += True if rowdict['hcl'][:1] == '#' and rowdict['hcl'][1:].isalnum() == True else False # Hair Color\n",
    "        correctfields += True if rowdict['ecl'] in ['amb','blu','brn','gry','grn','hzl','oth'] else False # Eye Color\n",
    "\n",
    "        if correctfields == 7:\n",
    "            validdata += 1\n",
    "\n",
    "print(validpassports)\n",
    "print(validdata)\n"
   ]
  }
 ],
 "metadata": {
  "kernelspec": {
   "display_name": "Python 3",
   "language": "python",
   "name": "python3"
  },
  "language_info": {
   "codemirror_mode": {
    "name": "ipython",
    "version": 2
   },
   "file_extension": ".py",
   "mimetype": "text/x-python",
   "name": "python",
   "nbconvert_exporter": "python",
   "pygments_lexer": "ipython2",
   "version": "2.7.6"
  }
 },
 "nbformat": 4,
 "nbformat_minor": 0
}
