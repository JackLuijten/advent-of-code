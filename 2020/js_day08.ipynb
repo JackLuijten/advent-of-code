{
 "cells": [
  {
   "cell_type": "code",
   "execution_count": 46,
   "metadata": {
    "collapsed": true,
    "ExecuteTime": {
     "end_time": "2023-11-29T16:15:40.590222200Z",
     "start_time": "2023-11-29T16:15:40.340485700Z"
    }
   },
   "outputs": [
    {
     "name": "stdout",
     "output_type": "stream",
     "text": [
      "1584\n",
      "920\n"
     ]
    }
   ],
   "source": [
    "import copy\n",
    "\n",
    "with open('data/day08.csv') as input:\n",
    "    data = [[x for x in line.split(' ')] for line in input.read().splitlines()]\n",
    "\n",
    "maxinstruction = len(data)\n",
    "\n",
    "def add_pos(set, pos):\n",
    "    if pos in set:\n",
    "        return True\n",
    "    else:\n",
    "        set.add(pos)\n",
    "        return False\n",
    "\n",
    "def run_instruction(data):\n",
    "    visited = set()\n",
    "    finished = False\n",
    "    second_finished = False\n",
    "    curpos = 0\n",
    "    acc = 0\n",
    "\n",
    "    while not finished:\n",
    "        action = data[curpos][0]\n",
    "        stepsize = int(data[curpos][1])\n",
    "        if action == 'nop':\n",
    "            curpos += 1\n",
    "        elif action == 'acc':\n",
    "            acc += stepsize\n",
    "            curpos += 1\n",
    "        elif action == 'jmp':\n",
    "            curpos += stepsize\n",
    "        finished = add_pos(visited, curpos)\n",
    "        if curpos == maxinstruction:\n",
    "            finished = True\n",
    "            second_finished = True\n",
    "    return acc, second_finished\n",
    "\n",
    "\n",
    "def modify_data(inputdata, pos):\n",
    "    data_new = copy.deepcopy(inputdata)\n",
    "    if data_new[pos][0] == 'jmp':\n",
    "        data_new[pos][0] = 'nop'\n",
    "    elif data_new[pos][0] == 'nop':\n",
    "        data_new[pos][0] = 'jmp'\n",
    "    else:\n",
    "        data_new, pos = modify_data(data, pos + 1)\n",
    "    return data_new, pos\n",
    "\n",
    "second_finished = False\n",
    "pos = 0\n",
    "\n",
    "print(run_instruction(data)[0])\n",
    "\n",
    "while not second_finished:\n",
    "        data2, pos = modify_data(data, pos)\n",
    "        accumulator, second_finished = run_instruction(data2)\n",
    "        pos += 1\n",
    "\n",
    "print(accumulator)\n"
   ]
  }
 ],
 "metadata": {
  "kernelspec": {
   "display_name": "Python 3",
   "language": "python",
   "name": "python3"
  },
  "language_info": {
   "codemirror_mode": {
    "name": "ipython",
    "version": 2
   },
   "file_extension": ".py",
   "mimetype": "text/x-python",
   "name": "python",
   "nbconvert_exporter": "python",
   "pygments_lexer": "ipython2",
   "version": "2.7.6"
  }
 },
 "nbformat": 4,
 "nbformat_minor": 0
}
