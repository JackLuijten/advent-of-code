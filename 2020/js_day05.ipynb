{
 "cells": [
  {
   "cell_type": "code",
   "execution_count": 100,
   "metadata": {
    "collapsed": true,
    "ExecuteTime": {
     "end_time": "2023-11-20T21:33:05.384881Z",
     "start_time": "2023-11-20T21:33:05.358098300Z"
    }
   },
   "outputs": [
    {
     "name": "stdout",
     "output_type": "stream",
     "text": [
      "947.0\n",
      "636\n"
     ]
    }
   ],
   "source": [
    "with open('data/day05.csv', 'r') as input:\n",
    "    data = input.read().splitlines()\n",
    "\n",
    "maxvalue = 0\n",
    "maxword = ''\n",
    "seatids = []\n",
    "\n",
    "for word in data:\n",
    "\n",
    "    row = 0\n",
    "    column = 0\n",
    "\n",
    "    for i in range(7):\n",
    "        if word[i] == 'B':\n",
    "            row += 64 / 2 ** i\n",
    "\n",
    "    for j in range(3):\n",
    "        if word[j + 7] == 'R':\n",
    "            column += 4 / 2 ** j\n",
    "\n",
    "    rowvalue = row * 8 + column\n",
    "    if 8 <= rowvalue <= 126 * 8 + 7:\n",
    "        seatids.append(int(rowvalue))\n",
    "\n",
    "    if rowvalue > maxvalue:\n",
    "        maxvalue = rowvalue\n",
    "        maxword = word\n",
    "\n",
    "print(maxvalue)\n",
    "seatids.sort()\n",
    "\n",
    "for seatid in seatids:\n",
    "    if seatid + 2 in seatids and seatid + 1 not in seatids:\n",
    "        print(seatid + 1)\n",
    "        break\n",
    "    elif seatid - 2 in seatids and seatid - 1 not in seatids:\n",
    "        print(seatid - 1)\n",
    "        break\n"
   ]
  }
 ],
 "metadata": {
  "kernelspec": {
   "display_name": "Python 3",
   "language": "python",
   "name": "python3"
  },
  "language_info": {
   "codemirror_mode": {
    "name": "ipython",
    "version": 2
   },
   "file_extension": ".py",
   "mimetype": "text/x-python",
   "name": "python",
   "nbconvert_exporter": "python",
   "pygments_lexer": "ipython2",
   "version": "2.7.6"
  }
 },
 "nbformat": 4,
 "nbformat_minor": 0
}
