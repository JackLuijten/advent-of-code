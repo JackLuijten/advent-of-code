{
 "cells": [
  {
   "cell_type": "code",
   "execution_count": 14,
   "metadata": {
    "collapsed": true,
    "ExecuteTime": {
     "end_time": "2023-11-14T18:56:28.800816200Z",
     "start_time": "2023-11-14T18:56:28.796290900Z"
    }
   },
   "outputs": [],
   "source": [
    "with open('data/day01.csv', 'r') as input:\n",
    "    data = [int(line) for line in input.read().splitlines()]\n",
    "\n",
    "answer1found = False\n",
    "answer2found = False"
   ]
  },
  {
   "cell_type": "code",
   "execution_count": 15,
   "outputs": [
    {
     "name": "stdout",
     "output_type": "stream",
     "text": [
      "876459\n"
     ]
    }
   ],
   "source": [
    "while answer1found == False:\n",
    "    for item in data:\n",
    "        if 2020 - item in data:\n",
    "            answer1 = item * (2020 - item)\n",
    "            answer1found = True\n",
    "\n",
    "print(answer1)"
   ],
   "metadata": {
    "collapsed": false,
    "ExecuteTime": {
     "end_time": "2023-11-14T18:56:30.460421600Z",
     "start_time": "2023-11-14T18:56:30.450275400Z"
    }
   }
  },
  {
   "cell_type": "code",
   "execution_count": 17,
   "outputs": [
    {
     "name": "stdout",
     "output_type": "stream",
     "text": [
      "116168640\n"
     ]
    }
   ],
   "source": [
    "while answer2found == False:\n",
    "    for i in range(0, len(data)):\n",
    "        for j in range(i+1, len(data)):\n",
    "            for k in range(j+1, len(data)):\n",
    "                if data[i] + data[j] + data[k] == 2020:\n",
    "                    answer2 = data[i] * data[j] * data[k]\n",
    "                    answer2found = True\n",
    "\n",
    "print(answer2)"
   ],
   "metadata": {
    "collapsed": false,
    "ExecuteTime": {
     "end_time": "2023-11-14T18:58:13.374445600Z",
     "start_time": "2023-11-14T18:58:13.367596300Z"
    }
   }
  }
 ],
 "metadata": {
  "kernelspec": {
   "display_name": "Python 3",
   "language": "python",
   "name": "python3"
  },
  "language_info": {
   "codemirror_mode": {
    "name": "ipython",
    "version": 2
   },
   "file_extension": ".py",
   "mimetype": "text/x-python",
   "name": "python",
   "nbconvert_exporter": "python",
   "pygments_lexer": "ipython2",
   "version": "2.7.6"
  }
 },
 "nbformat": 4,
 "nbformat_minor": 0
}
