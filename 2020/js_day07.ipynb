{
 "cells": [
  {
   "cell_type": "code",
   "execution_count": 227,
   "outputs": [],
   "source": [
    "import re\n",
    "\n",
    "# Pattern to match the bag that contains other bags\n",
    "pattern1 = r\"^(.*?) bags contain\"\n",
    "\n",
    "# Pattern to match the bags that are contained\n",
    "pattern2 = r\"(\\d+) (.*?) bag\"\n",
    "\n",
    "with open('data/day07.csv') as input:\n",
    "    data = input.read().splitlines()\n",
    "    bags = [re.findall(pattern1, x) for x in data]\n",
    "    content = [re.findall(pattern2, x) for x in data]\n",
    "\n",
    "graph = {}\n",
    "\n",
    "for i in range(len(bags)):\n",
    "    graph_bag = {}\n",
    "    for j in range(len(content[i])):\n",
    "        number, bag = content[i][j]\n",
    "        graph_bag[bag] = int(number)\n",
    "    graph[bags[i][0]] = graph_bag\n"
   ],
   "metadata": {
    "collapsed": false,
    "ExecuteTime": {
     "end_time": "2023-11-28T22:03:34.319934600Z",
     "start_time": "2023-11-28T22:03:34.286897500Z"
    }
   }
  },
  {
   "cell_type": "code",
   "execution_count": 233,
   "outputs": [
    {
     "name": "stdout",
     "output_type": "stream",
     "text": [
      "139\n"
     ]
    }
   ],
   "source": [
    "possible_parents = set()\n",
    "\n",
    "def get_parents(childbag):\n",
    "    for parent in graph:\n",
    "        if childbag in graph[parent].keys():\n",
    "            get_parents(parent)\n",
    "            possible_parents.add(parent)\n",
    "    return\n",
    "\n",
    "get_parents(\"shiny gold\")\n",
    "print(len(possible_parents))\n"
   ],
   "metadata": {
    "collapsed": false,
    "ExecuteTime": {
     "end_time": "2023-11-28T22:04:44.577602200Z",
     "start_time": "2023-11-28T22:04:44.556499300Z"
    }
   }
  },
  {
   "cell_type": "code",
   "execution_count": 234,
   "outputs": [
    {
     "name": "stdout",
     "output_type": "stream",
     "text": [
      "58175\n"
     ]
    }
   ],
   "source": [
    "numbags = 0\n",
    "\n",
    "def get_num_bags(parent):\n",
    "    number_bags = 0\n",
    "    if len(graph[parent].keys()) > 0:\n",
    "        for bag, bagcount in graph[parent].items():\n",
    "            number_bags += bagcount\n",
    "            number_bags += bagcount * get_num_bags(bag)\n",
    "    return number_bags\n",
    "\n",
    "print(get_num_bags(\"shiny gold\"))\n"
   ],
   "metadata": {
    "collapsed": false,
    "ExecuteTime": {
     "end_time": "2023-11-28T22:04:46.441114Z",
     "start_time": "2023-11-28T22:04:46.409322700Z"
    }
   }
  }
 ],
 "metadata": {
  "kernelspec": {
   "display_name": "Python 3",
   "language": "python",
   "name": "python3"
  },
  "language_info": {
   "codemirror_mode": {
    "name": "ipython",
    "version": 2
   },
   "file_extension": ".py",
   "mimetype": "text/x-python",
   "name": "python",
   "nbconvert_exporter": "python",
   "pygments_lexer": "ipython2",
   "version": "2.7.6"
  }
 },
 "nbformat": 4,
 "nbformat_minor": 0
}
