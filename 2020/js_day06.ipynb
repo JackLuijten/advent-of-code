{
 "cells": [
  {
   "cell_type": "code",
   "execution_count": 37,
   "metadata": {
    "collapsed": true,
    "ExecuteTime": {
     "end_time": "2023-11-21T19:43:43.845574400Z",
     "start_time": "2023-11-21T19:43:43.829337400Z"
    }
   },
   "outputs": [
    {
     "name": "stdout",
     "output_type": "stream",
     "text": [
      "6583\n",
      "3290\n"
     ]
    }
   ],
   "source": [
    "with open('data/day06.csv', 'r') as input:\n",
    "    data = [x.split('\\n') for x in input.read().split('\\n\\n')]\n",
    "\n",
    "total_yes = 0\n",
    "everyone_yes = 0\n",
    "\n",
    "for group in data:\n",
    "    answered_yes = set()\n",
    "    for person in group:\n",
    "        for yes in person:\n",
    "            answered_yes.add(yes)\n",
    "    total_yes += len(answered_yes)\n",
    "\n",
    "print(total_yes)\n",
    "\n",
    "for group in data:\n",
    "    group_yes = set()\n",
    "    firstperson = True\n",
    "\n",
    "    for person in group:\n",
    "        person_yes = set()\n",
    "\n",
    "        for yes in person:\n",
    "            person_yes.add(yes)\n",
    "        if firstperson:\n",
    "            group_yes = group_yes.union(person_yes)\n",
    "        else:\n",
    "            group_yes = group_yes.intersection(person_yes)\n",
    "        firstperson = False\n",
    "    everyone_yes += len(group_yes)\n",
    "\n",
    "print(everyone_yes)"
   ]
  }
 ],
 "metadata": {
  "kernelspec": {
   "display_name": "Python 3",
   "language": "python",
   "name": "python3"
  },
  "language_info": {
   "codemirror_mode": {
    "name": "ipython",
    "version": 2
   },
   "file_extension": ".py",
   "mimetype": "text/x-python",
   "name": "python",
   "nbconvert_exporter": "python",
   "pygments_lexer": "ipython2",
   "version": "2.7.6"
  }
 },
 "nbformat": 4,
 "nbformat_minor": 0
}
