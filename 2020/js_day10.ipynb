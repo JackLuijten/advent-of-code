{
 "cells": [
  {
   "cell_type": "code",
   "execution_count": 66,
   "metadata": {
    "collapsed": true,
    "ExecuteTime": {
     "end_time": "2023-11-29T21:16:31.928044200Z",
     "start_time": "2023-11-29T21:16:31.924394200Z"
    }
   },
   "outputs": [
    {
     "name": "stdout",
     "output_type": "stream",
     "text": [
      "2310\n"
     ]
    }
   ],
   "source": [
    "with open('data/day10.csv') as input:\n",
    "    data = [int(x) for x in input.read().splitlines()]\n",
    "\n",
    "data.sort()\n",
    "data.insert(0, 0)\n",
    "data.append(data[-1] + 3)\n",
    "\n",
    "difference = [j - i for i, j in zip(data[: -1], data[1:])]\n",
    "\n",
    "ones = difference.count(1)\n",
    "threes = difference.count(3)\n",
    "\n",
    "print(ones * threes)\n"
   ]
  },
  {
   "cell_type": "code",
   "execution_count": 67,
   "outputs": [
    {
     "name": "stdout",
     "output_type": "stream",
     "text": [
      "64793042714624\n"
     ]
    }
   ],
   "source": [
    "number_options = 1\n",
    "number_ones = 0\n",
    "option_list = [1, 1, 2, 4, 7]\n",
    "\n",
    "for i in range(len(difference)):\n",
    "    if difference[i] == 1:\n",
    "        number_ones += 1\n",
    "    else:\n",
    "        number_options *= option_list[number_ones]\n",
    "        number_ones = 0\n",
    "\n",
    "print(number_options)\n"
   ],
   "metadata": {
    "collapsed": false,
    "ExecuteTime": {
     "end_time": "2023-11-29T21:16:33.530793500Z",
     "start_time": "2023-11-29T21:16:33.523064900Z"
    }
   }
  }
 ],
 "metadata": {
  "kernelspec": {
   "display_name": "Python 3",
   "language": "python",
   "name": "python3"
  },
  "language_info": {
   "codemirror_mode": {
    "name": "ipython",
    "version": 2
   },
   "file_extension": ".py",
   "mimetype": "text/x-python",
   "name": "python",
   "nbconvert_exporter": "python",
   "pygments_lexer": "ipython2",
   "version": "2.7.6"
  }
 },
 "nbformat": 4,
 "nbformat_minor": 0
}
