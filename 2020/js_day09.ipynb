{
 "cells": [
  {
   "cell_type": "code",
   "execution_count": 61,
   "metadata": {
    "collapsed": true,
    "ExecuteTime": {
     "end_time": "2023-11-29T19:52:10.649276500Z",
     "start_time": "2023-11-29T19:52:10.636054300Z"
    }
   },
   "outputs": [
    {
     "name": "stdout",
     "output_type": "stream",
     "text": [
      "1212510616\n"
     ]
    }
   ],
   "source": [
    "with open('data/day09.csv') as input:\n",
    "    data = [int(x) for x in input.read().splitlines()]\n",
    "\n",
    "preamble = 25\n",
    "\n",
    "for i in range(preamble, len(data)):\n",
    "    found = False\n",
    "    number = data[i]\n",
    "    for j in range(-preamble, - 1):\n",
    "        firstpart = data[i+j]\n",
    "        if number - firstpart in data[i-preamble:i] and firstpart * 2 != number:\n",
    "            found = True\n",
    "        else:\n",
    "            continue\n",
    "    if not found:\n",
    "        invalid = data[i]\n",
    "        break\n",
    "\n",
    "print(invalid)"
   ]
  },
  {
   "cell_type": "code",
   "execution_count": 62,
   "outputs": [
    {
     "name": "stdout",
     "output_type": "stream",
     "text": [
      "171265123\n"
     ]
    }
   ],
   "source": [
    "for i in range(len(data)):\n",
    "    end = i + 1\n",
    "    sumofnumbers = sum(data[i:end])\n",
    "    while sumofnumbers < invalid:\n",
    "        sumofnumbers += data[end]\n",
    "        end += 1\n",
    "    if sumofnumbers == invalid:\n",
    "        weakness = min(data[i:end]) + max(data[i:end])\n",
    "        break\n",
    "\n",
    "print(weakness)\n"
   ],
   "metadata": {
    "collapsed": false,
    "ExecuteTime": {
     "end_time": "2023-11-29T19:52:12.353853600Z",
     "start_time": "2023-11-29T19:52:12.342476Z"
    }
   }
  }
 ],
 "metadata": {
  "kernelspec": {
   "display_name": "Python 3",
   "language": "python",
   "name": "python3"
  },
  "language_info": {
   "codemirror_mode": {
    "name": "ipython",
    "version": 2
   },
   "file_extension": ".py",
   "mimetype": "text/x-python",
   "name": "python",
   "nbconvert_exporter": "python",
   "pygments_lexer": "ipython2",
   "version": "2.7.6"
  }
 },
 "nbformat": 4,
 "nbformat_minor": 0
}
