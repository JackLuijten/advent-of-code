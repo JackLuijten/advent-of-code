{
 "cells": [
  {
   "cell_type": "code",
   "execution_count": 13,
   "metadata": {
    "collapsed": true,
    "ExecuteTime": {
     "end_time": "2023-11-14T19:11:40.818192700Z",
     "start_time": "2023-11-14T19:11:40.808806400Z"
    }
   },
   "outputs": [],
   "source": [
    "import re\n",
    "\n",
    "with open('data/day02.csv', 'r') as input:\n",
    "    data = [[x for x in re.match(\"(\\d+)-(\\d+) (\\w): (\\w+)\", line).groups()] for line in input.read().splitlines()]\n"
   ]
  },
  {
   "cell_type": "code",
   "execution_count": 14,
   "outputs": [
    {
     "name": "stdout",
     "output_type": "stream",
     "text": [
      "469\n"
     ]
    }
   ],
   "source": [
    "password_valid = 0\n",
    "\n",
    "for item in data:\n",
    "    min_count, max_count, letter, password = item\n",
    "    if int(min_count) <= password.count(letter) <= int(max_count):\n",
    "        password_valid += 1\n",
    "\n",
    "print(password_valid)\n"
   ],
   "metadata": {
    "collapsed": false,
    "ExecuteTime": {
     "end_time": "2023-11-14T19:11:46.556513500Z",
     "start_time": "2023-11-14T19:11:46.552422500Z"
    }
   }
  },
  {
   "cell_type": "code",
   "execution_count": 23,
   "outputs": [
    {
     "name": "stdout",
     "output_type": "stream",
     "text": [
      "267\n"
     ]
    }
   ],
   "source": [
    "password_valid = 0\n",
    "\n",
    "for item in data:\n",
    "    min_count, max_count, letter, password = item\n",
    "    if password[int(min_count)-1] == letter:\n",
    "        password_valid += 1\n",
    "        if password[int(max_count)-1] == letter:\n",
    "            password_valid -= 1\n",
    "    elif password[int(max_count)-1] == letter:\n",
    "        password_valid += 1\n",
    "\n",
    "print(password_valid)\n"
   ],
   "metadata": {
    "collapsed": false,
    "ExecuteTime": {
     "end_time": "2023-11-14T19:19:55.523470Z",
     "start_time": "2023-11-14T19:19:55.520867600Z"
    }
   }
  }
 ],
 "metadata": {
  "kernelspec": {
   "display_name": "Python 3",
   "language": "python",
   "name": "python3"
  },
  "language_info": {
   "codemirror_mode": {
    "name": "ipython",
    "version": 2
   },
   "file_extension": ".py",
   "mimetype": "text/x-python",
   "name": "python",
   "nbconvert_exporter": "python",
   "pygments_lexer": "ipython2",
   "version": "2.7.6"
  }
 },
 "nbformat": 4,
 "nbformat_minor": 0
}
