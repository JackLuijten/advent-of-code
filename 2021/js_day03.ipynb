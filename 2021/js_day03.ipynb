{
 "cells": [
  {
   "cell_type": "code",
   "execution_count": 33,
   "id": "cafac984",
   "metadata": {},
   "outputs": [],
   "source": [
    "import time\n",
    "start = time.time()\n",
    "\n",
    "def get_most_occurences(list, i, mode=\"largerequal\"):\n",
    "   \n",
    "    sum = len([x for x in list if x[i] == \"1\"])\n",
    "    count = len(list)\n",
    "    if mode == \"largerequal\":\n",
    "        if sum >= count/2:\n",
    "            return \"1\"\n",
    "        else:\n",
    "            return \"0\"\n",
    "    else:\n",
    "        if sum >= count/2:\n",
    "            return \"0\"\n",
    "        else:\n",
    "            return \"1\""
   ]
  },
  {
   "cell_type": "code",
   "execution_count": 34,
   "id": "d88a9800",
   "metadata": {},
   "outputs": [],
   "source": [
    "with open('js_data/day03.csv','r') as data:\n",
    "\n",
    "    #for row in data:\n",
    "    #    directions_ylka.append(row)\n",
    "    binary = [x for x in data]"
   ]
  },
  {
   "cell_type": "code",
   "execution_count": 35,
   "id": "5c8f54b1",
   "metadata": {},
   "outputs": [
    {
     "name": "stdout",
     "output_type": "stream",
     "text": [
      "001110100111 110001011000\n",
      "2954600\n"
     ]
    }
   ],
   "source": [
    "#Assignment 1\n",
    "gamma = \"\"\n",
    "epsilon = \"\"\n",
    "\n",
    "for i in range(0,12):\n",
    "    outcome = get_most_occurences(binary, i)\n",
    "    gamma += outcome\n",
    "    epsilon += str(1 - int(outcome))\n",
    "\n",
    "print(gamma, epsilon)\n",
    "print(int(gamma, 2) * int(epsilon, 2))"
   ]
  },
  {
   "cell_type": "code",
   "execution_count": 36,
   "id": "502d2072",
   "metadata": {},
   "outputs": [],
   "source": [
    "#Assignment 2 oxygen\n",
    "oxygen = \"\"\n",
    "new_binary = binary[:]\n",
    "i = 0\n",
    "\n",
    "while len(new_binary) > 1:\n",
    "    outcome = get_most_occurences(new_binary, i)\n",
    "    oxygen += outcome\n",
    "    new_binary = [x for x in new_binary if x.startswith(oxygen)]\n",
    "    i += 1\n",
    "\n",
    "oxygen = new_binary[0]"
   ]
  },
  {
   "cell_type": "code",
   "execution_count": 37,
   "id": "e8f3c979",
   "metadata": {},
   "outputs": [],
   "source": [
    "#Assignment 2 co2\n",
    "co2 = \"\"\n",
    "new_binary = binary[:]\n",
    "i = 0\n",
    "\n",
    "while len(new_binary) > 1:\n",
    "    outcome = get_most_occurences(new_binary, i, \"co2\")\n",
    "    co2 += outcome\n",
    "    new_binary = [x for x in new_binary if x.startswith(co2)]\n",
    "    i += 1\n",
    "\n",
    "co2 = new_binary[0]"
   ]
  },
  {
   "cell_type": "code",
   "execution_count": 38,
   "id": "f47d2a65",
   "metadata": {},
   "outputs": [
    {
     "name": "stdout",
     "output_type": "stream",
     "text": [
      "1662846\n",
      "runtime: 0.09204721450805664\n"
     ]
    }
   ],
   "source": [
    "print(int(oxygen, 2) * int(co2, 2))\n",
    "\n",
    "print(f\"runtime: {time.time() - start}\")"
   ]
  }
 ],
 "metadata": {
  "kernelspec": {
   "name": "python3",
   "language": "python",
   "display_name": "Python 3 (ipykernel)"
  },
  "language_info": {
   "codemirror_mode": {
    "name": "ipython",
    "version": 3
   },
   "file_extension": ".py",
   "mimetype": "text/x-python",
   "name": "python",
   "nbconvert_exporter": "python",
   "pygments_lexer": "ipython3",
   "version": "3.10.4"
  }
 },
 "nbformat": 4,
 "nbformat_minor": 5
}