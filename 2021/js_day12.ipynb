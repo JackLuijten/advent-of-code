{
 "cells": [
  {
   "cell_type": "code",
   "execution_count": 145,
   "metadata": {
    "collapsed": true,
    "pycharm": {
     "name": "#%%\n"
    }
   },
   "outputs": [
    {
     "name": "stdout",
     "output_type": "stream",
     "text": [
      "solution to part 1: 3708\n",
      "runtime: 0.01584172248840332\n",
      "solution to part 2: 93858\n",
      "runtime: 1.397324562072754\n"
     ]
    }
   ],
   "source": [
    "import time\n",
    "from collections import Counter\n",
    "\n",
    "starttime = time.time()\n",
    "\n",
    "with open('data/day12.csv','r') as f:\n",
    "     data = f.read().splitlines()\n",
    "\n",
    "directions = {}\n",
    "for d in data:\n",
    "    start, end = d.split('-')\n",
    "    if start in directions.keys():\n",
    "        directions[start].add(end)\n",
    "    elif start != 'end':\n",
    "        directions[start] = set([end])\n",
    "    if end in directions.keys():\n",
    "        directions[end].add(start)\n",
    "    elif end != 'end':\n",
    "        directions[end] = set([start])\n",
    "\n",
    "multiple = [i for i in directions.keys() if i.isupper() == True]\n",
    "\n",
    "visitedList = []\n",
    "visitedListTwo = []\n",
    "\n",
    "def depthFirst(graph=directions, currentVertex='start', visited=[]):\n",
    "    visited.append(currentVertex)\n",
    "    for vertex in graph[currentVertex]:\n",
    "        if (vertex not in visited or vertex in multiple) and vertex != 'end':\n",
    "            depthFirst(graph, vertex, visited.copy())\n",
    "        if vertex == 'end':\n",
    "            route = visited.copy()\n",
    "            route.append(vertex)\n",
    "            visitedList.append(route)\n",
    "            continue\n",
    "\n",
    "def depthFirstSecond(graph=directions, currentVertex='start', visited=[]):\n",
    "    visited.append(currentVertex)\n",
    "    for vertex in graph[currentVertex]:\n",
    "        if (vertex not in visited or vertex in multiple) and vertex != 'end':\n",
    "            depthFirstSecond(graph, vertex, visited.copy())\n",
    "        elif vertex in visited and vertex not in ('start','end'):\n",
    "            c = Counter(visited)\n",
    "            double = 0\n",
    "            for edge, count in c.items():\n",
    "                if count > 1 and edge not in multiple and edge not in ('start','end'):\n",
    "                    double = 1\n",
    "                    continue\n",
    "            if double == 0:\n",
    "                depthFirstSecond(graph, vertex, visited.copy())\n",
    "            else:\n",
    "                continue\n",
    "        elif vertex == 'end':\n",
    "            route = visited.copy()\n",
    "            route.append(vertex)\n",
    "            visitedListTwo.append(route)\n",
    "            continue\n",
    "\n",
    "\n",
    "depthFirst(directions, 'start', [])\n",
    "print(f\"solution to part 1: {len(visitedList)}\")\n",
    "print(f\"runtime: {time.time() - starttime}\")\n",
    "\n",
    "startTimeTwo = time.time()\n",
    "depthFirstSecond(directions, 'start', [])\n",
    "print(f\"solution to part 2: {len(visitedListTwo)}\")\n",
    "print(f\"runtime: {time.time() - startTimeTwo}\")"
   ]
  },
  {
   "cell_type": "code",
   "execution_count": null,
   "outputs": [],
   "source": [],
   "metadata": {
    "collapsed": false,
    "pycharm": {
     "name": "#%%\n"
    }
   }
  }
 ],
 "metadata": {
  "kernelspec": {
   "display_name": "Python 3",
   "language": "python",
   "name": "python3"
  },
  "language_info": {
   "codemirror_mode": {
    "name": "ipython",
    "version": 2
   },
   "file_extension": ".py",
   "mimetype": "text/x-python",
   "name": "python",
   "nbconvert_exporter": "python",
   "pygments_lexer": "ipython2",
   "version": "2.7.6"
  }
 },
 "nbformat": 4,
 "nbformat_minor": 0
}