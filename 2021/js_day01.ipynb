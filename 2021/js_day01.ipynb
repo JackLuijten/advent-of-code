{
 "cells": [
  {
   "cell_type": "code",
   "execution_count": null,
   "outputs": [],
   "source": [
    "import csv\n",
    "import math\n",
    "\n",
    "depth_data = []\n",
    "total = 0\n",
    "increase = 0\n",
    "decrease_equal = 0\n",
    "depth = math.inf\n",
    "\n",
    "with open('jvd_data/day01.csv','r') as data:\n",
    "    rowdata = csv.reader(data)\n",
    "    for datapoint in rowdata:\n",
    "        if int(datapoint[0]) > depth:\n",
    "            increase += 1\n",
    "        else:\n",
    "            decrease_equal += 1\n",
    "        depth = int(datapoint[0])\n",
    "        total += 1\n",
    "\n",
    "print(f\"\"\"Total number of measurements: {total}\n",
    "Increased depth measurements: {increase}\n",
    "Decreased depth measurements: {decrease_equal}\"\"\")"
   ],
   "metadata": {
    "collapsed": false,
    "pycharm": {
     "name": "#%%\n"
    }
   }
  },
  {
   "cell_type": "code",
   "execution_count": null,
   "outputs": [],
   "source": [
    "total = 0\n",
    "increase = 0\n",
    "decrease_equal = 0\n",
    "\n",
    "for i in range(3,len(depth_data)):\n",
    "    if sum(depth_data[i-3:i]) < sum(depth_data[i-2:i+1]):\n",
    "        increase += 1\n",
    "    else:\n",
    "        decrease_equal += 1\n",
    "    total += 1\n",
    "\n",
    "print(f\"\"\"Total number of measurements: {total}\n",
    "Increased depth measurements: {increase}\n",
    "Decreased depth measurements: {decrease_equal}\"\"\")"
   ],
   "metadata": {
    "collapsed": false,
    "pycharm": {
     "name": "#%%\n"
    }
   }
  }
 ],
 "metadata": {
  "kernelspec": {
   "name": "python3",
   "language": "python",
   "display_name": "Python 3 (ipykernel)"
  },
  "language_info": {
   "codemirror_mode": {
    "name": "ipython",
    "version": 3
   },
   "file_extension": ".py",
   "mimetype": "text/x-python",
   "name": "python",
   "nbconvert_exporter": "python",
   "pygments_lexer": "ipython3",
   "version": "3.10.4"
  }
 },
 "nbformat": 4,
 "nbformat_minor": 5
}