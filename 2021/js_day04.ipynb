{
 "cells": [
  {
   "cell_type": "code",
   "execution_count": 24,
   "id": "564b188d",
   "metadata": {},
   "outputs": [],
   "source": [
    "def mark_board(board, score):\n",
    "    #if score == 70:\n",
    "        #print(board, score)\n",
    "    for row in board:\n",
    "        for col in range(0,len(row)):\n",
    "            if row[col] == score:\n",
    "                row[col] = 'x'"
   ]
  },
  {
   "cell_type": "code",
   "execution_count": 2,
   "id": "47050252",
   "metadata": {},
   "outputs": [],
   "source": [
    "def sum_board(board):\n",
    "    sum = 0\n",
    "    for row in board:\n",
    "        for num in row:\n",
    "            if num != 'x':\n",
    "                sum += num\n",
    "    return sum"
   ]
  },
  {
   "cell_type": "code",
   "execution_count": 3,
   "id": "9efef7f2",
   "metadata": {},
   "outputs": [],
   "source": [
    "def check_for_winner(board):\n",
    "    winner = False\n",
    "    # check row\n",
    "    for row in board:\n",
    "        winner = all(elem in ['x'] for elem in row)\n",
    "        if winner:\n",
    "            return winner\n",
    "    #check column\n",
    "    for col in range(0,5):\n",
    "        winner = all(elem in ['x'] for elem in [row[col] for row in board])\n",
    "        if winner:\n",
    "            return winner\n",
    "    return winner"
   ]
  },
  {
   "cell_type": "code",
   "execution_count": 4,
   "id": "f57f7a96",
   "metadata": {},
   "outputs": [
    {
     "name": "stdout",
     "output_type": "stream",
     "text": [
      "60368\n"
     ]
    }
   ],
   "source": [
    "def play1(numbers, boards):\n",
    "    for number in numbers:\n",
    "        for board in boards:\n",
    "            mark_board(board, number)\n",
    "            if check_for_winner(board) == True:\n",
    "                return sum_board(board) * number\n",
    "\n",
    "with open('js_data/day04.csv','r') as data:\n",
    "    numbers, *boards = data.read().split('\\n\\n')\n",
    "    numbers = [int(x) for x in numbers.split(',')]\n",
    "    allBoards = [[[int(num) for num in row.split()] for row in board.split('\\n')] for board in boards]\n",
    "\n",
    "score1 = play1(numbers, allBoards)\n",
    "print(score1)"
   ]
  },
  {
   "cell_type": "code",
   "execution_count": 25,
   "id": "13a1efee",
   "metadata": {},
   "outputs": [
    {
     "name": "stdout",
     "output_type": "stream",
     "text": [
      "17435\n",
      "after number 55, 1 boards remaining.\n",
      " board: [[83, 'x', 71, 'x', 'x'], [70, 'x', 'x', 'x', 1], [60, 'x', 'x', 'x', 'x'], ['x', 'x', 97, 'x', 'x'], ['x', 'x', 'x', 5, 'x']], [['x', 'x', 'x', 'x', 15], ['x', 'x', 'x', 65, 'x'], ['x', 10, 20, 'x', 'x'], ['x', 'x', 'x', 34, 73], [74, 'x', 'x', 'x', 60]]\n",
      "21285\n"
     ]
    }
   ],
   "source": [
    "def play2(numbers, boards):\n",
    "    winnerFound = False\n",
    "    while not winnerFound:\n",
    "        number = numbers[0]\n",
    "        numbers = numbers[1:]\n",
    "                \n",
    "        for board in boards:\n",
    "            mark_board(board, number)\n",
    "        index = 0\n",
    "        while index < len(boards):\n",
    "            if check_for_winner(boards[index]):\n",
    "                if len(boards) > 1:\n",
    "                    boards.pop(index)\n",
    "                else:\n",
    "                    winnerFound = True\n",
    "                    return sum_board(boards[index]) * number\n",
    "            else:\n",
    "                index += 1\n",
    "                \n",
    "def play3(numbers, boards):       \n",
    "    for number in numbers:\n",
    "        for board in boards:\n",
    "            mark_board(board, number)\n",
    "            if check_for_winner(board) == True and len(boards) > 1:\n",
    "                boards.remove(board)\n",
    "                if len(boards) == 1:\n",
    "                    print(f\"after number {number}, {len(boards)} boards remaining.\\n board: {board}, {boards[0]}\")\n",
    "                    return sum_board(board) * number\n",
    "                \n",
    "with open('js_data/day04.csv','r') as data:\n",
    "    numbers, *boards = data.read().split('\\n\\n')\n",
    "    numbers = [int(x) for x in numbers.split(',')]\n",
    "    allBoards = [[[int(num) for num in row.split()] for row in board.split('\\n')] for board in boards]\n",
    "\n",
    "score2 = play2(numbers, allBoards)\n",
    "\n",
    "print(score2)\n",
    "\n",
    "with open('js_data/day04.csv','r') as data:\n",
    "    numbers, *boards = data.read().split('\\n\\n')\n",
    "    numbers = [int(x) for x in numbers.split(',')]\n",
    "    allBoards = [[[int(num) for num in row.split()] for row in board.split('\\n')] for board in boards]\n",
    "\n",
    "score3 = play3(numbers, allBoards)\n",
    "print(score3)"
   ]
  },
  {
   "cell_type": "code",
   "execution_count": null,
   "id": "b17a3ed3",
   "metadata": {},
   "outputs": [],
   "source": [
    "#82,72,39,2,45,78,11,1,44,69,64   76,26"
   ]
  }
 ],
 "metadata": {
  "kernelspec": {
   "name": "python3",
   "language": "python",
   "display_name": "Python 3 (ipykernel)"
  },
  "language_info": {
   "codemirror_mode": {
    "name": "ipython",
    "version": 3
   },
   "file_extension": ".py",
   "mimetype": "text/x-python",
   "name": "python",
   "nbconvert_exporter": "python",
   "pygments_lexer": "ipython3",
   "version": "3.10.4"
  }
 },
 "nbformat": 4,
 "nbformat_minor": 5
}