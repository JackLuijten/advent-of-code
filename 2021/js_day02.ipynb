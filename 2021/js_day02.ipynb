{
 "cells": [
  {
   "cell_type": "code",
   "execution_count": 2,
   "id": "bd57d326",
   "metadata": {},
   "outputs": [],
   "source": [
    "import csv"
   ]
  },
  {
   "cell_type": "code",
   "execution_count": 23,
   "id": "de9635ae",
   "metadata": {},
   "outputs": [],
   "source": [
    "def calculate_distance(direction, list):\n",
    "    steps = [int(x.strip(direction)) for x in list if x.startswith(direction)]\n",
    "    return sum(steps)"
   ]
  },
  {
   "cell_type": "code",
   "execution_count": 35,
   "id": "44457539",
   "metadata": {},
   "outputs": [],
   "source": [
    "def calculate_distance_new(list):\n",
    "    \"\"\"\"\n",
    "    down X increases your aim by X units.\n",
    "    up X decreases your aim by X units.\n",
    "    forward X does two things:\n",
    "        It increases your horizontal position by X units.\n",
    "        It increases your depth by your aim multiplied by X.\n",
    "    \"\"\"\n",
    "    aim = 0\n",
    "    depth = 0\n",
    "    horizontal_pos = 0\n",
    "    \n",
    "    for movement in list:\n",
    "        direction = movement.split(' ')[0]\n",
    "        distance = int(movement.split(' ')[1])\n",
    "        \n",
    "        if direction == \"forward\":\n",
    "            horizontal_pos += distance\n",
    "            depth += aim * distance\n",
    "        elif direction == \"down\":\n",
    "            aim += distance        \n",
    "        elif direction == \"up\":\n",
    "            aim -= distance\n",
    "    \n",
    "    return horizontal_pos * depth\n",
    "        \n",
    "    \n",
    "    "
   ]
  },
  {
   "cell_type": "code",
   "execution_count": 31,
   "id": "386fccf8",
   "metadata": {},
   "outputs": [
    {
     "name": "stdout",
     "output_type": "stream",
     "text": [
      "horizontal distance: 1996\n",
      "vertical distance: 2054 - 1032 = 1022\n",
      "product: 2039912\n"
     ]
    }
   ],
   "source": [
    "#directions_ylka = []\n",
    "\n",
    "with open('js_data/day02.csv','r') as data:\n",
    "\n",
    "    #for row in data:\n",
    "    #    directions_ylka.append(row)\n",
    "    directions = [x for x in data]\n",
    "\n",
    "forward = calculate_distance(\"forward\", directions)\n",
    "down = calculate_distance(\"down\", directions)\n",
    "up = calculate_distance(\"up\", directions)\n",
    "\n",
    "horizontal = forward\n",
    "vertical = down - up\n",
    "product = horizontal * vertical\n",
    "\n",
    "print(f\"\"\"horizontal distance: {horizontal}\n",
    "vertical distance: {down} - {up} = {vertical}\n",
    "product: {product}\"\"\")"
   ]
  },
  {
   "cell_type": "code",
   "execution_count": 36,
   "id": "9568cbf9",
   "metadata": {},
   "outputs": [
    {
     "data": {
      "text/plain": [
       "1942068080"
      ]
     },
     "execution_count": 36,
     "metadata": {},
     "output_type": "execute_result"
    }
   ],
   "source": [
    "calculate_distance_new(directions)"
   ]
  }
 ],
 "metadata": {
  "kernelspec": {
   "name": "python3",
   "language": "python",
   "display_name": "Python 3 (ipykernel)"
  },
  "language_info": {
   "codemirror_mode": {
    "name": "ipython",
    "version": 3
   },
   "file_extension": ".py",
   "mimetype": "text/x-python",
   "name": "python",
   "nbconvert_exporter": "python",
   "pygments_lexer": "ipython3",
   "version": "3.10.4"
  }
 },
 "nbformat": 4,
 "nbformat_minor": 5
}