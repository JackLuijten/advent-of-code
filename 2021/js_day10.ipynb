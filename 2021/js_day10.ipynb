{
 "cells": [
  {
   "cell_type": "code",
   "execution_count": 52,
   "outputs": [
    {
     "name": "stdout",
     "output_type": "stream",
     "text": [
      "319233\n",
      "runtime part 1: 0.008928537368774414\n"
     ]
    }
   ],
   "source": [
    "import time\n",
    "start = time.time()\n",
    "\n",
    "with open('js_data/day10.csv','r') as data:\n",
    "    rows = data.read().split('\\n')\n",
    "    dataset = [[x for x in row] for row in rows]\n",
    "\n",
    "closing_brackets = {'(': ')', '[': ']', '{': '}', '<': '>'}\n",
    "points1 = {')': 3, ']': 57, '}': 1197, '>': 25137}\n",
    "score = 0\n",
    "incomplete_lines = dataset[:]\n",
    "\n",
    "for row in dataset:\n",
    "    to_close = []\n",
    "    for value in row:\n",
    "        if value in closing_brackets:\n",
    "            to_close.insert(0, closing_brackets[value])\n",
    "        elif value == to_close[0]:\n",
    "            to_close.pop(0)\n",
    "        else:\n",
    "            score += points1[value]\n",
    "            incomplete_lines.remove(row)\n",
    "            break\n",
    "\n",
    "print(score)\n",
    "print(f\"runtime part 1: {time.time() - start}\")"
   ],
   "metadata": {
    "collapsed": false,
    "pycharm": {
     "name": "#%%\n"
    }
   }
  },
  {
   "cell_type": "code",
   "execution_count": 53,
   "outputs": [
    {
     "name": "stdout",
     "output_type": "stream",
     "text": [
      "1118976874\n",
      "runtime part 2: 0.0\n"
     ]
    }
   ],
   "source": [
    "start2 = time.time()\n",
    "\n",
    "points2 = {')': 1, ']': 2, '}': 3, '>': 4}\n",
    "scores = []\n",
    "\n",
    "for row in incomplete_lines:\n",
    "    to_close = []\n",
    "    score = 0\n",
    "    for value in row:\n",
    "        if value in closing_brackets:\n",
    "            to_close.insert(0, closing_brackets[value])\n",
    "        elif value == to_close[0]:\n",
    "            to_close.pop(0)\n",
    "        else:\n",
    "            print(\"HOW DID I END UP HERE???\")\n",
    "            break\n",
    "    for i in range(len(to_close)):\n",
    "        # print(to_close, to_close[i])\n",
    "        score *= 5\n",
    "        score += points2[to_close[i]]\n",
    "    # print(score)\n",
    "    scores.append(score)\n",
    "\n",
    "scores.sort()\n",
    "print(scores[int((len(scores)+1) / 2) - 1])\n",
    "\n",
    "print(f\"runtime part 2: {time.time() - start2}\")"
   ],
   "metadata": {
    "collapsed": false,
    "pycharm": {
     "name": "#%%\n"
    }
   }
  }
 ],
 "metadata": {
  "kernelspec": {
   "name": "python3",
   "language": "python",
   "display_name": "Python 3 (ipykernel)"
  },
  "language_info": {
   "codemirror_mode": {
    "name": "ipython",
    "version": 2
   },
   "file_extension": ".py",
   "mimetype": "text/x-python",
   "name": "python",
   "nbconvert_exporter": "python",
   "pygments_lexer": "ipython2",
   "version": "2.7.6"
  }
 },
 "nbformat": 4,
 "nbformat_minor": 0
}