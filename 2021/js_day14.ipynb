{
 "cells": [
  {
   "cell_type": "code",
   "execution_count": 82,
   "outputs": [
    {
     "name": "stdout",
     "output_type": "stream",
     "text": [
      "P 4594563234406.5 F 483995077254.0\n",
      "4110568157152.5\n"
     ]
    }
   ],
   "source": [
    "from collections import Counter\n",
    "import time\n",
    "starttime = time.time()\n",
    "\n",
    "with open('data/day14.csv') as f:\n",
    "    l = f.read().split('\\n\\n')\n",
    "    word = l[0]\n",
    "    input = {i.split(' -> ')[0]: i.split(' -> ')[1] for i in l[1].split('\\n')}\n",
    "\n",
    "worddict = {}\n",
    "for i in range(1, len(word)):\n",
    "    s = word[i-1:i+1]\n",
    "    if s in worddict.keys():\n",
    "        worddict[s] += 1\n",
    "    else:\n",
    "        worddict[s] = 1\n",
    "\n",
    "first = word[0:2]\n",
    "last = word[-2:]\n",
    "\n",
    "def step(dict, first, last):\n",
    "    if first in input.keys():\n",
    "        first = first[0]+input[first]\n",
    "    if last in input.keys():\n",
    "        last = input[last]+last[1]\n",
    "    w = dict.copy()\n",
    "    for k in w.keys():\n",
    "        if k in input.keys():\n",
    "            dict[k] -= 1 * w[k]\n",
    "            new = [k[0]+input[k], input[k]+k[1]]\n",
    "            for n in new:\n",
    "                if n in dict.keys():\n",
    "                    dict[n] += 1 * w[k]\n",
    "                else:\n",
    "                    dict[n] = 1 * w[k]\n",
    "    dict = {k: v for k, v in dict.items() if v > 0}\n",
    "    return dict, first, last\n",
    "\n",
    "# def step(polymer):\n",
    "    # i = 1\n",
    "    # while i < len(polymer):\n",
    "    #     k = polymer[i-1:i+1]\n",
    "    #     if k in input.keys():\n",
    "    #         polymer = polymer[:i] + input[k] + polymer[i:]\n",
    "    #         i += 2\n",
    "    #     else:\n",
    "    #         i += 1\n",
    "    # return polymer\n",
    "\n",
    "# for i in range(1):\n",
    "#     print(f\"iteration {i+1}, length word: {len(word)} and runtime: {time.time() - starttime}\")\n",
    "#     word = step(word)\n",
    "\n",
    "for i in range(40):\n",
    "    # print(f\"iteration {i+1}, length word: {len(word)} and runtime: {time.time() - starttime}\")\n",
    "    worddict, first, last = step(worddict, first, last)\n",
    "\n",
    "letterdict = {}\n",
    "for k, v in worddict.items():\n",
    "    for l in k:\n",
    "        if l in letterdict.keys():\n",
    "            letterdict[l] += worddict[k] / 2\n",
    "        else:\n",
    "            letterdict[l] = worddict[k] / 2\n",
    "    # if k == first:\n",
    "    #     print(k, worddict[k])\n",
    "    #     print(letterdict[k[0]])\n",
    "    #     letterdict[k[0]] += worddict[k] / 2\n",
    "    #     print(letterdict[k[0]])\n",
    "    # if k == last:\n",
    "    #     print(k, worddict[k])\n",
    "    #     print(letterdict[k[1]])\n",
    "    #     letterdict[k[1]] += worddict[k] / 2\n",
    "    # print(letterdict)\n",
    "# minimum = min(worddict, key=worddict.get)\n",
    "# maximum = max(worddict, key=worddict.get)\n",
    "# print(maximum, worddict[maximum], minimum, worddict[minimum])\n",
    "# print(worddict[maximum] -  worddict[minimum])\n",
    "\n",
    "minimum = min(letterdict, key=letterdict.get)\n",
    "maximum = max(letterdict, key=letterdict.get)\n",
    "print(maximum, letterdict[maximum], minimum, letterdict[minimum])\n",
    "print(letterdict[maximum] - letterdict[minimum])\n",
    "# WHY DOES ROUNDING UP THIS NUMBER WORK?! NO CLUE,\n",
    "# it feels like I should not be dividing the starting and ending letter by 2"
   ],
   "metadata": {
    "collapsed": false,
    "pycharm": {
     "name": "#%%\n"
    }
   }
  }
 ],
 "metadata": {
  "kernelspec": {
   "display_name": "Python 3",
   "language": "python",
   "name": "python3"
  },
  "language_info": {
   "codemirror_mode": {
    "name": "ipython",
    "version": 2
   },
   "file_extension": ".py",
   "mimetype": "text/x-python",
   "name": "python",
   "nbconvert_exporter": "python",
   "pygments_lexer": "ipython2",
   "version": "2.7.6"
  }
 },
 "nbformat": 4,
 "nbformat_minor": 0
}