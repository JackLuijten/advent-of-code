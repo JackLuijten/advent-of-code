{
 "cells": [
  {
   "cell_type": "code",
   "execution_count": 1,
   "metadata": {
    "collapsed": true
   },
   "outputs": [
    {
     "name": "stdout",
     "output_type": "stream",
     "text": [
      "1655\n",
      "337\n",
      "runtime: 0.03508591651916504\n"
     ]
    }
   ],
   "source": [
    "import time\n",
    "start = time.time()\n",
    "with open('js_data/day11.csv', 'r') as data:\n",
    "    rows = data.read().split('\\n')\n",
    "    grid = [[int(x) for x in row] for row in rows]\n",
    "\n",
    "flashes = 0\n",
    "\n",
    "def flash(row, column):\n",
    "    # print(f\"original: {row}, {column}\")\n",
    "    for i in range(max(row-1, 0), min(row+1, len(grid[row])-1)+1):\n",
    "        for j in range(max(column-1, 0), min(column+1, len(grid)-1)+1):\n",
    "            # print(i, j)\n",
    "            if grid[i][j] in [0, 10]:\n",
    "                continue\n",
    "            else:\n",
    "                grid[i][j] += 1\n",
    "\n",
    "def pass_day():\n",
    "    global grid\n",
    "    grid = [[x+1 for x in row] for row in grid]\n",
    "    while sum(row.count(10) for row in grid):\n",
    "        for row in range(len(grid)):\n",
    "            for column in range(len(grid[row])):\n",
    "                value = grid[row][column]\n",
    "                if value == 10:\n",
    "                    grid[row][column] = 0\n",
    "                    flash(row, column)\n",
    "    return sum(row.count(0) for row in grid)\n",
    "\n",
    "DayCount = 0\n",
    "for num in range(100):\n",
    "    DayCount += 1\n",
    "    flashes += pass_day()\n",
    "\n",
    "print(flashes)\n",
    "\n",
    "while sum(row.count(0) for row in grid) != len(grid) * len(grid[0]):\n",
    "    DayCount += 1\n",
    "    pass_day()\n",
    "\n",
    "print(DayCount)\n",
    "print(f\"runtime: {time.time() - start}\")"
   ]
  }
 ],
 "metadata": {
  "kernelspec": {
   "name": "python3",
   "language": "python",
   "display_name": "Python 3 (ipykernel)"
  },
  "language_info": {
   "codemirror_mode": {
    "name": "ipython",
    "version": 2
   },
   "file_extension": ".py",
   "mimetype": "text/x-python",
   "name": "python",
   "nbconvert_exporter": "python",
   "pygments_lexer": "ipython2",
   "version": "2.7.6"
  }
 },
 "nbformat": 4,
 "nbformat_minor": 0
}