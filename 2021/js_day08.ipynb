{
 "cells": [
  {
   "cell_type": "code",
   "execution_count": 142,
   "metadata": {
    "collapsed": true,
    "pycharm": {
     "name": "#%%\n"
    }
   },
   "outputs": [
    {
     "name": "stdout",
     "output_type": "stream",
     "text": [
      "989396.0\n",
      "runtime: 0.013184309005737305\n"
     ]
    }
   ],
   "source": [
    "import time\n",
    "start = time.time()\n",
    "\n",
    "with open('js_data/day08.csv','r') as data:\n",
    "    rows = data.read().split('\\n')\n",
    "    dataset = [[[num for num in rowpart.split(' ')] for rowpart in row.split(' | ')] for row in rows]\n",
    "\n",
    "count = 0\n",
    "count2 = 0\n",
    "\n",
    "# TOO HIGH      3416214\n",
    "# TOO LOW       374264\n",
    "# TOO HIGH      996458\n",
    "# RIGHT ANSWER  989396\n",
    "\n",
    "for data in dataset:\n",
    "    num1 = set([x for x in data[0] if len(x) == 2][0])\n",
    "    num4 = set([x for x in data[0] if len(x) == 4][0])\n",
    "    num7 = set([x for x in data[0] if len(x) == 3][0])\n",
    "    num8 = set([x for x in data[0] if len(x) == 7][0])\n",
    "    num9 = set([x for x in data[0] if len(x) == 6 and num4 <= set(x)][0])\n",
    "    num6 = set([x for x in data[0] if len(x) == 6 and not num1 <= set(x)][0])\n",
    "    num0 = set([x for x in data[0] if len(x) == 6 and not num6 <= set(x) and not num9 <= set(x)][0])\n",
    "    num3 = set([x for x in data[0] if len(x) == 5 and num1 <= set(x)][0])\n",
    "    num5 = set([x for x in data[0] if len(x) == 5 and set(x) <= num9 and not num3 <= set(x)][0])\n",
    "    num2 = set([x for x in data[0] if len(x) == 5 and not set(x) in (num3, num5)][0])\n",
    "    Dict = {0: num0, 1: num1, 2: num2, 3: num3, 4: num4, 5: num5, 6: num6, 7: num7, 8: num8, 9: num9}\n",
    "    #print(Dict)\n",
    "    count += len([x for x in data[1] if set(x) in (num1, num4, num7, num8)])\n",
    "\n",
    "    Rownumber = 0\n",
    "    factor = 1000\n",
    "\n",
    "    for number in data[1]:\n",
    "        for key, value in Dict.items():\n",
    "            if set(number) == value:# == set():\n",
    "                Rownumber += key * factor\n",
    "        factor = factor / 10\n",
    "    count2 += Rownumber\n",
    "\n",
    "print(count2)\n",
    "print(f\"runtime: {time.time() - start}\")"
   ]
  }
 ],
 "metadata": {
  "kernelspec": {
   "display_name": "Python 3",
   "language": "python",
   "name": "python3"
  },
  "language_info": {
   "codemirror_mode": {
    "name": "ipython",
    "version": 2
   },
   "file_extension": ".py",
   "mimetype": "text/x-python",
   "name": "python",
   "nbconvert_exporter": "python",
   "pygments_lexer": "ipython2",
   "version": "2.7.6"
  }
 },
 "nbformat": 4,
 "nbformat_minor": 0
}