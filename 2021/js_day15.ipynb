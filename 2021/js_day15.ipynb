{
 "cells": [
  {
   "cell_type": "code",
   "execution_count": 4,
   "metadata": {
    "collapsed": true
   },
   "outputs": [
    {
     "name": "stdout",
     "output_type": "stream",
     "text": [
      "({(0, 0): 0, (0, 1): 63, (1, 0): 13, (1, 1): 94, (2, 0): 34, (2, 1): 70, (3, 0): 70, (0, 2): 138, (2, 2): 121, (3, 1): 164, (4, 0): 144, (1, 2): 131, (2, 3): 134, (3, 2): 214, (1, 3): 167, (2, 4): 162, (3, 3): 149, (0, 3): 155, (4, 1): 207, (5, 0): 157, (3, 4): 218, (4, 3): 220, (0, 4): 197, (5, 1): 176, (6, 0): 170, (1, 4): 234, (6, 1): 229, (7, 0): 201, (5, 2): 188, (5, 3): 269, (4, 2): 229, (6, 2): 279, (7, 1): 226, (8, 0): 213, (8, 1): 306, (9, 0): 236, (4, 4): 229, (7, 2): 268, (5, 4): 266, (9, 1): 247, (9, 2): 341, (6, 4): 287, (7, 3): 284, (8, 2): 281, (6, 3): 293, (8, 3): 366, (7, 4): 323, (8, 4): 344, (9, 3): 386, (9, 4): 425}, {(0, 0): None, (0, 1): (0, 0), (1, 0): (0, 0), (1, 1): (1, 0), (2, 0): (1, 0), (2, 1): (2, 0), (3, 0): (2, 0), (0, 2): (0, 1), (2, 2): (2, 1), (3, 1): (2, 1), (4, 0): (3, 0), (1, 2): (1, 1), (2, 3): (2, 2), (3, 2): (2, 2), (1, 3): (1, 2), (2, 4): (2, 3), (3, 3): (2, 3), (0, 3): (0, 2), (4, 1): (4, 0), (5, 0): (4, 0), (3, 4): (3, 3), (4, 3): (3, 3), (0, 4): (0, 3), (5, 1): (5, 0), (6, 0): (5, 0), (1, 4): (2, 4), (6, 1): (6, 0), (7, 0): (6, 0), (5, 2): (5, 1), (5, 3): (5, 2), (4, 2): (5, 2), (6, 2): (5, 2), (7, 1): (7, 0), (8, 0): (7, 0), (8, 1): (8, 0), (9, 0): (8, 0), (4, 4): (3, 4), (7, 2): (7, 1), (5, 4): (4, 4), (9, 1): (9, 0), (9, 2): (9, 1), (6, 4): (5, 4), (7, 3): (7, 2), (8, 2): (7, 2), (6, 3): (5, 3), (8, 3): (8, 2), (7, 4): (7, 3), (8, 4): (7, 4), (9, 3): (9, 2), (9, 4): (8, 4)})\n"
     ]
    }
   ],
   "source": [
    "# import the `heapq` module for priority queue\n",
    "import heapq\n",
    "\n",
    "def dijkstra(grid, start, end):\n",
    "    # create a priority queue to store the nodes\n",
    "    queue = []\n",
    "\n",
    "    # create a dictionary to store the distances from the start node\n",
    "    distances = {start: 0}\n",
    "\n",
    "    # create a dictionary to store the previous nodes in the shortest path\n",
    "    previous = {start: None}\n",
    "\n",
    "    # create a set to keep track of visited nodes\n",
    "    visited = set()\n",
    "\n",
    "    # push the start node onto the queue with priority 0\n",
    "    heapq.heappush(queue, (0, start))\n",
    "\n",
    "    # loop until the queue is empty\n",
    "    while queue:\n",
    "        # pop the node with the smallest distance from the queue\n",
    "        dist, node = heapq.heappop(queue)\n",
    "\n",
    "        # if we have reached the end node, we are done\n",
    "        if node == end:\n",
    "            break\n",
    "\n",
    "        # if the node has already been visited, skip it\n",
    "        if node in visited:\n",
    "            continue\n",
    "\n",
    "        # mark the node as visited\n",
    "        visited.add(node)\n",
    "\n",
    "        # loop through the neighbors of the node\n",
    "        for neighbor in get_neighbors(grid, node):\n",
    "            # if the neighbor has not been visited yet, calculate its distance\n",
    "            # from the start node and add it to the queue\n",
    "            if neighbor not in visited:\n",
    "                cur_distance = distances[node] + grid[neighbor[0]][neighbor[1]]\n",
    "                if cur_distance < distances.get(neighbor, float(\"inf\")):\n",
    "                    distances[neighbor] = cur_distance\n",
    "                    previous[neighbor] = node\n",
    "                    heapq.heappush(queue, (cur_distance, neighbor))\n",
    "\n",
    "    # return the distances and previous nodes dictionaries\n",
    "    return distances, previous\n",
    "\n",
    "# helper function to get the neighbors of a given node\n",
    "def get_neighbors(grid, node):\n",
    "    neighbors = []\n",
    "    x, y = node\n",
    "    # check if the node has a neighbor to the left\n",
    "    if y > 0:\n",
    "        neighbors.append((x, y-1))\n",
    "    # check if the node has a neighbor to the right\n",
    "    if y < len(grid[0])-1:\n",
    "        neighbors.append((x, y+1))\n",
    "    # check if the node has a neighbor above\n",
    "    if x > 0:\n",
    "        neighbors.append((x-1, y))\n",
    "    # check if the node has a neighbor below\n",
    "    if x < len(grid)-1:\n",
    "        neighbors.append((x+1, y))\n",
    "    return neighbors\n",
    "\n",
    "# example usage\n",
    "grid = [\n",
    "    [11, 63, 75, 17, 42],\n",
    "    [13, 81, 37, 36, 72],\n",
    "    [21, 36, 51, 13, 28],\n",
    "    [36, 94, 93, 15, 69],\n",
    "    [74, 63, 41, 71, 11],\n",
    "    [13, 19, 12, 81, 37],\n",
    "    [13, 59, 91, 24, 21],\n",
    "    [31, 25, 42, 16, 39],\n",
    "    [12, 93, 13, 85, 21],\n",
    "    [23, 11, 94, 45, 81]]\n",
    "\n",
    "print(dijkstra(grid, (0,0), (4, 9)))"
   ]
  }
 ],
 "metadata": {
  "kernelspec": {
   "display_name": "Python 3",
   "language": "python",
   "name": "python3"
  },
  "language_info": {
   "codemirror_mode": {
    "name": "ipython",
    "version": 2
   },
   "file_extension": ".py",
   "mimetype": "text/x-python",
   "name": "python",
   "nbconvert_exporter": "python",
   "pygments_lexer": "ipython2",
   "version": "2.7.6"
  }
 },
 "nbformat": 4,
 "nbformat_minor": 0
}