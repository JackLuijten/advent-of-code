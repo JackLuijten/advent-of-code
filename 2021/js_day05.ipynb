{
 "cells": [
  {
   "cell_type": "code",
   "execution_count": 383,
   "id": "5e4eea09",
   "metadata": {},
   "outputs": [],
   "source": [
    "def draw_line(line):\n",
    "    x1, y1 = line[0]\n",
    "    x2, y2 = line[1]\n",
    "    if x1 == x2:\n",
    "        for i in range(min(y1,y2),max(y1,y2)+1):\n",
    "            canvas[i][x1] += 1\n",
    "    elif y1 == y2:\n",
    "        for i in range(min(x1,x2),max(x1,x2)+1):\n",
    "            canvas[y1][i] += 1"
   ]
  },
  {
   "cell_type": "code",
   "execution_count": 384,
   "id": "cc0229bb",
   "metadata": {},
   "outputs": [
    {
     "name": "stdout",
     "output_type": "stream",
     "text": [
      "948637\n"
     ]
    }
   ],
   "source": [
    "with open('js_data/day05.csv','r') as data:\n",
    "    lines = data.read().split('\\n')\n",
    "    coordinates = [[[int(y) for y in x.split(',')] for x in coordinates.split('->')] for coordinates in lines]\n",
    "    #numbers = [int(x) for x in numbers.split(',')]\n",
    "    #allBoards = [[[int(num) for num in row.split()] for row in board.split('\\n')] for board in boards]\n",
    "\n",
    "canvas = []\n",
    "overlapping = 0\n",
    "\n",
    "for i in range(1000):\n",
    "    canvas.append([0 for x in range(1000)])\n",
    "\n",
    "for line in coordinates:\n",
    "    draw_line(line)        \n",
    "\n",
    "for y in canvas:\n",
    "    for x in y:\n",
    "        if x >= 2:\n",
    "            overlapping += 1\n",
    "\n",
    "print(overlapping)\n",
    "#948637"
   ]
  },
  {
   "cell_type": "code",
   "execution_count": 403,
   "id": "a8bc27e7",
   "metadata": {},
   "outputs": [],
   "source": [
    "def draw_all_lines(line):\n",
    "    x1, y1 = line[0]\n",
    "    x2, y2 = line[1]\n",
    "    if x1 == x2:\n",
    "        for i in range(min(y1,y2),max(y1,y2)+1):\n",
    "            canvas[i][x1] += 1\n",
    "    elif y1 == y2:\n",
    "        for i in range(min(x1,x2),max(x1,x2)+1):\n",
    "            canvas[y1][i] += 1\n",
    "    else:\n",
    "        if (y1 < y2 and x1 < x2) or (y1 > y2 and x1 > x2):\n",
    "            for i in range(abs(y1 - y2)+1):\n",
    "                    canvas[min(y1,y2)+i][min(x1,x2)+i] += 1\n",
    "        else:\n",
    "            for i in range(abs(y1 - y2)+1):\n",
    "                    canvas[max(y1,y2)-i][min(x1,x2)+i] += 1"
   ]
  },
  {
   "cell_type": "code",
   "execution_count": 404,
   "id": "9b8d2212",
   "metadata": {},
   "outputs": [
    {
     "name": "stdout",
     "output_type": "stream",
     "text": [
      "17193\n"
     ]
    }
   ],
   "source": [
    "with open('js_data/day05.csv','r') as data:\n",
    "    lines = data.read().split('\\n')\n",
    "    coordinates = [[[int(y) for y in x.split(',')] for x in coordinates.split('->')] for coordinates in lines]\n",
    "    #numbers = [int(x) for x in numbers.split(',')]\n",
    "    #allBoards = [[[int(num) for num in row.split()] for row in board.split('\\n')] for board in boards]\n",
    "\n",
    "canvas = []\n",
    "overlapping = 0\n",
    "\n",
    "for i in range(1000):\n",
    "    canvas.append([0 for x in range(1000)])\n",
    "\n",
    "for line in coordinates:\n",
    "    draw_all_lines(line)        \n",
    "\n",
    "for y in canvas:\n",
    "    for x in y:\n",
    "        if x >= 2:\n",
    "            overlapping += 1\n",
    "\n",
    "print(overlapping)\n",
    "#948637 too high\n",
    "#17811  too high\n",
    "#20187  too high\n",
    "#17193  SHABAAAM"
   ]
  }
 ],
 "metadata": {
  "kernelspec": {
   "name": "python3",
   "language": "python",
   "display_name": "Python 3 (ipykernel)"
  },
  "language_info": {
   "codemirror_mode": {
    "name": "ipython",
    "version": 3
   },
   "file_extension": ".py",
   "mimetype": "text/x-python",
   "name": "python",
   "nbconvert_exporter": "python",
   "pygments_lexer": "ipython3",
   "version": "3.10.4"
  }
 },
 "nbformat": 4,
 "nbformat_minor": 5
}