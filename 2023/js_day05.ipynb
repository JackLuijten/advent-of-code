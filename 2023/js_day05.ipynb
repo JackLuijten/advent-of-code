{
 "cells": [
  {
   "cell_type": "code",
   "execution_count": 94,
   "id": "initial_id",
   "metadata": {
    "collapsed": true,
    "ExecuteTime": {
     "end_time": "2023-12-05T17:26:42.559937900Z",
     "start_time": "2023-12-05T17:26:42.541942300Z"
    }
   },
   "outputs": [
    {
     "name": "stdout",
     "output_type": "stream",
     "text": [
      "318728750\n"
     ]
    }
   ],
   "source": [
    "import re\n",
    "\n",
    "with open('data/day05.txt') as input:\n",
    "    seeds = [int(x) for x in re.findall('\\d+',input.readline())]\n",
    "    input.readline()\n",
    "    maps = []\n",
    "    for line in input.readlines():\n",
    "        maptype = re.findall('(\\D+) map:',line)\n",
    "        numbers = re.findall('\\d+', line)\n",
    "        if maptype:\n",
    "            maps.append(maptype)\n",
    "        elif numbers:\n",
    "            maps[-1].append([int(x) for x in numbers])\n",
    "            \n",
    "locations1 = []\n",
    "\n",
    "for seed in seeds:\n",
    "    for map in maps:\n",
    "        seedplanted = False\n",
    "        for values in map[1:]:\n",
    "            start_dst, start_src, length = values\n",
    "            if seed in range(start_src, start_src+length) and not seedplanted:\n",
    "                seed = start_dst + (seed - start_src)\n",
    "                seedplanted = True\n",
    "    locations1.append(seed)\n",
    "    \n",
    "print(min(locations1))"
   ]
  },
  {
   "cell_type": "code",
   "execution_count": 98,
   "outputs": [
    {
     "name": "stdout",
     "output_type": "stream",
     "text": [
      "37384986 98\n"
     ]
    }
   ],
   "source": [
    "import math\n",
    "import time\n",
    "\n",
    "ans2 = math.inf\n",
    "mapdict = {}\n",
    "values_tried = 0\n",
    "\n",
    "for map in maps:\n",
    "    type = map[0]\n",
    "    mapdict[type] = []\n",
    "    for values in map[1:]:\n",
    "        mapdict[type].append([values[1], values[1] + values[2], values[0] - values[1]])\n",
    "\n",
    "for i in range(0, len(seeds), 2):\n",
    "    start = seeds[i]\n",
    "    end = start + seeds[i+1]\n",
    "    seed = start\n",
    "    while start <= seed < end:\n",
    "        values_tried += 1\n",
    "        seed_new = seed\n",
    "        max_change = math.inf\n",
    "        for type, map2 in mapdict.items():\n",
    "            for map in map2:\n",
    "                    start_src, end_src, change = map\n",
    "                    if start_src <= seed_new < end_src:\n",
    "                        max_change = min(max_change, end_src - seed_new)\n",
    "                        seed_new += change\n",
    "                        break\n",
    "        if seed_new < ans2:\n",
    "            ans2 = seed_new\n",
    "        seed += max_change\n",
    "\n",
    "print(ans2, values_tried)\n"
   ],
   "metadata": {
    "collapsed": false,
    "ExecuteTime": {
     "end_time": "2023-12-05T17:26:48.563264400Z",
     "start_time": "2023-12-05T17:26:48.549154900Z"
    }
   },
   "id": "7c157e0332ce47a2"
  }
 ],
 "metadata": {
  "kernelspec": {
   "display_name": "Python 3",
   "language": "python",
   "name": "python3"
  },
  "language_info": {
   "codemirror_mode": {
    "name": "ipython",
    "version": 2
   },
   "file_extension": ".py",
   "mimetype": "text/x-python",
   "name": "python",
   "nbconvert_exporter": "python",
   "pygments_lexer": "ipython2",
   "version": "2.7.6"
  }
 },
 "nbformat": 4,
 "nbformat_minor": 5
}
