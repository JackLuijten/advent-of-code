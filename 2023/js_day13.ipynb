{
 "cells": [
  {
   "cell_type": "code",
   "execution_count": 70,
   "id": "initial_id",
   "metadata": {
    "collapsed": true,
    "ExecuteTime": {
     "end_time": "2023-12-13T07:39:50.473320700Z",
     "start_time": "2023-12-13T07:39:50.274476400Z"
    }
   },
   "outputs": [
    {
     "name": "stdout",
     "output_type": "stream",
     "text": [
      "35691\n",
      "39037\n"
     ]
    }
   ],
   "source": [
    "import enchant\n",
    "\n",
    "with open('data/day13.txt') as f:\n",
    "    lines_hor = [[y for y in x.splitlines()] for x in f.read().split('\\n\\n')]\n",
    "\n",
    "lines_ver = []\n",
    "for i in range(len(lines_hor)):\n",
    "    lines_ver.append([])\n",
    "    for k in range(len(lines_hor[i][0])):\n",
    "        lines_ver[i].append('')\n",
    "        for j in range(len(lines_hor[i])):\n",
    "            lines_ver[i][k] += lines_hor[i][j][k]\n",
    "\n",
    "def find_mirror(game, part2):\n",
    "    size = len(game)\n",
    "    for j in range(size-1):\n",
    "        dist = enchant.utils.levenshtein(game[j], game[j+1])\n",
    "        joker_left = False if dist == 1 else True\n",
    "        if game[j] == game[j+1] or (dist == 1 and part2):\n",
    "            equal = True\n",
    "            for k in range(1, min(j + 1, size - j - 1)):\n",
    "                dist = enchant.utils.levenshtein(game[j + k + 1], game[j - k])\n",
    "                if game[j + k + 1] != game[j - k]:\n",
    "                    if dist == 1 and joker_left and part2:\n",
    "                        joker_left = False\n",
    "                    else:\n",
    "                        equal = False\n",
    "            if equal and not joker_left and part2:\n",
    "                return j + 1\n",
    "            elif equal and not part2:\n",
    "                return j + 1\n",
    "    return 0\n",
    "\n",
    "hor1 = 0\n",
    "hor2 = 0\n",
    "for v in lines_hor:\n",
    "    hor1 += find_mirror(v, False) * 100\n",
    "    hor2 += find_mirror(v, True) * 100\n",
    "\n",
    "ver1 = 0\n",
    "ver2 = 0\n",
    "for v in lines_ver:\n",
    "    ver1 += find_mirror(v, False)\n",
    "    ver2 += find_mirror(v, True)\n",
    "    \n",
    "print(ver1 + hor1)\n",
    "print(ver2 + hor2)\n",
    "    "
   ]
  }
 ],
 "metadata": {
  "kernelspec": {
   "display_name": "Python 3",
   "language": "python",
   "name": "python3"
  },
  "language_info": {
   "codemirror_mode": {
    "name": "ipython",
    "version": 2
   },
   "file_extension": ".py",
   "mimetype": "text/x-python",
   "name": "python",
   "nbconvert_exporter": "python",
   "pygments_lexer": "ipython2",
   "version": "2.7.6"
  }
 },
 "nbformat": 4,
 "nbformat_minor": 5
}
