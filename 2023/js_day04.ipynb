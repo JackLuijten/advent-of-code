{
 "cells": [
  {
   "cell_type": "code",
   "execution_count": 27,
   "metadata": {
    "collapsed": true,
    "ExecuteTime": {
     "end_time": "2023-12-04T05:50:21.762070400Z",
     "start_time": "2023-12-04T05:50:19.131508900Z"
    }
   },
   "outputs": [
    {
     "name": "stdout",
     "output_type": "stream",
     "text": [
      "20407\n",
      "23806951\n"
     ]
    }
   ],
   "source": [
    "import re\n",
    "\n",
    "with open('data/day04.txt') as input:\n",
    "    data = [re.split(': | \\| ',row) for row in [line for line in input.read().splitlines()]]\n",
    "\n",
    "ans1 = 0\n",
    "cardsdict = {}\n",
    "cards = []\n",
    "\n",
    "for row in data:\n",
    "    card, winning, numbers = row\n",
    "    card = int(card.split()[-1])\n",
    "    cards.append(card)\n",
    "    winning = [int(x) for x in winning.split()]\n",
    "    numbers = [int(y) for y in numbers.split()]\n",
    "    winning_numbers = 0\n",
    "    for n in numbers:\n",
    "        if n in winning:\n",
    "            winning_numbers += 1\n",
    "    if winning_numbers > 0:\n",
    "        ans1 += 2 ** (winning_numbers -1)\n",
    "    cardsdict[card] = [i for i in range(card + 1, card + winning_numbers + 1)]\n",
    "\n",
    "print(ans1)\n",
    "\n",
    "for card in cards:\n",
    "    cards += cardsdict[card]\n",
    "\n",
    "print(len(cards))\n"
   ]
  }
 ],
 "metadata": {
  "kernelspec": {
   "display_name": "Python 3",
   "language": "python",
   "name": "python3"
  },
  "language_info": {
   "codemirror_mode": {
    "name": "ipython",
    "version": 2
   },
   "file_extension": ".py",
   "mimetype": "text/x-python",
   "name": "python",
   "nbconvert_exporter": "python",
   "pygments_lexer": "ipython2",
   "version": "2.7.6"
  }
 },
 "nbformat": 4,
 "nbformat_minor": 0
}
