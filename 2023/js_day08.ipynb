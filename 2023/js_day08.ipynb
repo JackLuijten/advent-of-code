{
 "cells": [
  {
   "cell_type": "code",
   "execution_count": 45,
   "id": "initial_id",
   "metadata": {
    "collapsed": true,
    "ExecuteTime": {
     "end_time": "2023-12-08T05:40:22.720170300Z",
     "start_time": "2023-12-08T05:40:22.698120Z"
    }
   },
   "outputs": [
    {
     "name": "stdout",
     "output_type": "stream",
     "text": [
      "22357\n"
     ]
    }
   ],
   "source": [
    "import re\n",
    "from collections import defaultdict\n",
    "\n",
    "trans = str.maketrans('LR', '01')\n",
    "with open('data/day08.txt') as input:\n",
    "    instructions = [int(x.translate(trans)) for x in input.readline().strip('\\n')]\n",
    "    input.readline()\n",
    "    data = [re.findall('\\w+',x) for x in input.read().splitlines()]\n",
    "\n",
    "numInstructions = len(instructions)\n",
    "pos = 'AAA'\n",
    "steps = 0\n",
    "\n",
    "datadict = defaultdict()\n",
    "for i, v in enumerate(data):\n",
    "    key, left, right = v\n",
    "    datadict[key] = [left, right]\n",
    "\n",
    "while pos != 'ZZZ':\n",
    "    pos = datadict[pos][instructions[steps % numInstructions]]\n",
    "    steps += 1\n",
    "    \n",
    "print(steps)"
   ]
  },
  {
   "cell_type": "code",
   "execution_count": 101,
   "outputs": [
    {
     "name": "stdout",
     "output_type": "stream",
     "text": [
      "10371555451871\n"
     ]
    }
   ],
   "source": [
    "import math\n",
    "\n",
    "pos2 = [x for x in datadict.keys() if x[2] == 'A']\n",
    "dict2 = defaultdict(list)\n",
    "pos2Finished = []\n",
    "steps = 0\n",
    "finished = False\n",
    "\n",
    "for i, v in enumerate(pos2):\n",
    "    steps = 0\n",
    "    finished = False\n",
    "    while not finished:\n",
    "        if pos2[i][2] == 'Z':\n",
    "            spot = [pos2[i], steps % numInstructions]\n",
    "            if spot in dict2[i]:\n",
    "                finished = True\n",
    "            else:\n",
    "                dict2[i].append(spot)\n",
    "                pos2Finished.append(steps)\n",
    "        pos2[i] = datadict[pos2[i]][instructions[steps % numInstructions]]\n",
    "        steps += 1\n",
    "        \n",
    "\n",
    "lcm = 1\n",
    "for i in range(1, len(pos2Finished)):\n",
    "    if i == 1:\n",
    "        lcm = math.lcm(pos2Finished[0], pos2Finished[i])\n",
    "    else:\n",
    "        lcm = math.lcm(lcm, pos2Finished[i])\n",
    "        \n",
    "print(lcm)\n",
    "    "
   ],
   "metadata": {
    "collapsed": false,
    "ExecuteTime": {
     "end_time": "2023-12-08T06:46:52.393700800Z",
     "start_time": "2023-12-08T06:46:52.384261600Z"
    }
   },
   "id": "e32c48ad7c0b8fae"
  }
 ],
 "metadata": {
  "kernelspec": {
   "display_name": "Python 3",
   "language": "python",
   "name": "python3"
  },
  "language_info": {
   "codemirror_mode": {
    "name": "ipython",
    "version": 2
   },
   "file_extension": ".py",
   "mimetype": "text/x-python",
   "name": "python",
   "nbconvert_exporter": "python",
   "pygments_lexer": "ipython2",
   "version": "2.7.6"
  }
 },
 "nbformat": 4,
 "nbformat_minor": 5
}
