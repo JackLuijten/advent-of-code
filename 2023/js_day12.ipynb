{
 "cells": [
  {
   "cell_type": "code",
   "execution_count": 45,
   "id": "12537bed53e421ab",
   "metadata": {
    "collapsed": false,
    "ExecuteTime": {
     "end_time": "2023-12-12T21:17:35.476070900Z",
     "start_time": "2023-12-12T21:17:35.464556600Z"
    }
   },
   "outputs": [],
   "source": [
    "import regex as re\n",
    "\n",
    "with open('data/day12.txt') as input:\n",
    "    data = [[x for x in line.split(' ')] for line in input.read().splitlines()]\n",
    "\n",
    "def mem(f):\n",
    "    memory = {}\n",
    "    def inner_function(*args):\n",
    "        if args not in memory:\n",
    "            memory[args] = f(*args)\n",
    "        return memory[args]\n",
    "    return inner_function\n",
    "\n",
    "@mem\n",
    "def check_regex(string, to_find):\n",
    "    to_find_list = [int(x) for x in to_find.split(',')]\n",
    "    total = 0\n",
    "    length = len(string)\n",
    "    length_needed = sum(to_find_list[1:]) + len(to_find_list[1:]) - 1\n",
    "    end = True if len(to_find_list) == 1 else False\n",
    "    search = f'(?<!.*#.*)([?#]{{{to_find_list[0]}}})(?!.*#.*)' if end else f'(?<!#.*?)([?#]{{{to_find_list[0]}}})(?!#)'\n",
    "    possible = []\n",
    "    for i in re.finditer(search, string, overlapped=True):\n",
    "        if length - i.end() > length_needed:\n",
    "            possible.append(i.end() + 1)\n",
    "    if end:\n",
    "        total += len(possible)\n",
    "    else:\n",
    "        for j in possible:\n",
    "            total += check_regex(string[j:], to_find[to_find.find(',')+1:])\n",
    "    return total\n"
   ]
  },
  {
   "cell_type": "code",
   "execution_count": 60,
   "outputs": [
    {
     "name": "stdout",
     "output_type": "stream",
     "text": [
      "7007\n",
      "3476169006222\n"
     ]
    }
   ],
   "source": [
    "ans1 = 0\n",
    "ans2 = 0\n",
    "for line in data:\n",
    "    l, line = line\n",
    "    springs = line\n",
    "    l = re.sub(r'\\.+','.',l)\n",
    "    string = l\n",
    "    for i in range(4):\n",
    "        string += f'?{l}'\n",
    "        springs += f',{line}'\n",
    "    ans1 += check_regex(l, line)\n",
    "    ans2 += check_regex(string, springs)\n",
    "print(ans1)\n",
    "print(ans2)\n"
   ],
   "metadata": {
    "collapsed": true,
    "ExecuteTime": {
     "end_time": "2023-12-12T21:21:42.361315700Z",
     "start_time": "2023-12-12T21:21:42.342950700Z"
    }
   },
   "id": "initial_id"
  }
 ],
 "metadata": {
  "kernelspec": {
   "display_name": "Python 3",
   "language": "python",
   "name": "python3"
  },
  "language_info": {
   "codemirror_mode": {
    "name": "ipython",
    "version": 2
   },
   "file_extension": ".py",
   "mimetype": "text/x-python",
   "name": "python",
   "nbconvert_exporter": "python",
   "pygments_lexer": "ipython2",
   "version": "2.7.6"
  }
 },
 "nbformat": 4,
 "nbformat_minor": 5
}
