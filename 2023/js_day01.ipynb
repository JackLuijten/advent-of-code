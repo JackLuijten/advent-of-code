{
 "cells": [
  {
   "cell_type": "code",
   "execution_count": 106,
   "metadata": {
    "collapsed": true,
    "ExecuteTime": {
     "end_time": "2023-12-01T11:17:11.628256400Z",
     "start_time": "2023-12-01T11:17:11.612494700Z"
    }
   },
   "outputs": [
    {
     "name": "stdout",
     "output_type": "stream",
     "text": [
      "54667\n"
     ]
    }
   ],
   "source": [
    "import re\n",
    "\n",
    "pattern = r\"(\\d{1})\"\n",
    "\n",
    "with open('data/day01.txt') as input:\n",
    "    data = [x for x in input.read().splitlines()]\n",
    "    data1 = [re.findall(pattern, x) for x in data]\n",
    "\n",
    "num = 0\n",
    "\n",
    "for row in data1:\n",
    "    num += int(row[0] + row[-1])\n",
    "\n",
    "print(num)"
   ]
  },
  {
   "cell_type": "code",
   "execution_count": 107,
   "outputs": [
    {
     "name": "stdout",
     "output_type": "stream",
     "text": [
      "54203\n"
     ]
    }
   ],
   "source": [
    "pattern2_start = r\"^.*?(\\d{1}|one|two|three|four|five|six|seven|eight|nine){1}\"\n",
    "pattern2_end   = r\"^.*(\\d{1}|one|two|three|four|five|six|seven|eight|nine){1}\"\n",
    "\n",
    "to_replace = {\n",
    "    'one': '1',\n",
    "    'two': '2',\n",
    "    'three': '3',\n",
    "    'four': '4',\n",
    "    'five': '5',\n",
    "    'six': '6',\n",
    "    'seven': '7',\n",
    "    'eight': '8',\n",
    "    'nine': '9'}\n",
    "\n",
    "num2 = 0\n",
    "\n",
    "for row in data:\n",
    "    number = ''\n",
    "    first = re.findall(pattern2_start, row)[0]\n",
    "    if first in to_replace.keys():\n",
    "        first = to_replace[first]\n",
    "    last = re.findall(pattern2_end, row)[0]\n",
    "    if last in to_replace.keys():\n",
    "        last = to_replace[last]\n",
    "    num2 += int(first + last)\n",
    "\n",
    "print(num2)\n",
    "\n",
    "# 54185 too low"
   ],
   "metadata": {
    "collapsed": false,
    "ExecuteTime": {
     "end_time": "2023-12-01T11:17:13.579331600Z",
     "start_time": "2023-12-01T11:17:13.578825100Z"
    }
   }
  }
 ],
 "metadata": {
  "kernelspec": {
   "display_name": "Python 3",
   "language": "python",
   "name": "python3"
  },
  "language_info": {
   "codemirror_mode": {
    "name": "ipython",
    "version": 2
   },
   "file_extension": ".py",
   "mimetype": "text/x-python",
   "name": "python",
   "nbconvert_exporter": "python",
   "pygments_lexer": "ipython2",
   "version": "2.7.6"
  }
 },
 "nbformat": 4,
 "nbformat_minor": 0
}
