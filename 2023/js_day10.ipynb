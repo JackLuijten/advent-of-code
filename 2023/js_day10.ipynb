{
 "cells": [
  {
   "cell_type": "code",
   "execution_count": 311,
   "id": "initial_id",
   "metadata": {
    "collapsed": true,
    "ExecuteTime": {
     "end_time": "2023-12-10T17:23:55.356840700Z",
     "start_time": "2023-12-10T17:23:49.322516200Z"
    }
   },
   "outputs": [
    {
     "name": "stdout",
     "output_type": "stream",
     "text": [
      "19600\n",
      "6649.0\n"
     ]
    }
   ],
   "source": [
    "from collections import defaultdict\n",
    "\n",
    "with open('data/day10.txt') as input:\n",
    "    data = [[x for x in line] for line in input.read().splitlines()]\n",
    "\n",
    "datadict = defaultdict(list)\n",
    "directions = defaultdict()\n",
    "outside = []\n",
    "values = 0\n",
    "\n",
    "pos = (0, 0)\n",
    "pos2 = (0, 0)\n",
    "for i, v in enumerate(data):\n",
    "    for j, w in enumerate(v):\n",
    "        values += 1\n",
    "        datadict[(j, i)] = [w]\n",
    "        if w == 'S':\n",
    "            pos = (j, i)\n",
    "        if j == 0 or i == 0:\n",
    "            outside.append((j, i))\n",
    "\n",
    "print(len(datadict.keys()))\n",
    "finished = False\n",
    "loop = [pos]\n",
    "\n",
    "for k, v in datadict.items():\n",
    "    x, y = k\n",
    "    v = v[0]\n",
    "    if v == 'L':\n",
    "        directions[k] = (x+1, y), (x, y-1)\n",
    "    elif v == 'J':\n",
    "        directions[k] = (x-1, y), (x, y-1)\n",
    "    elif v == '7':\n",
    "        directions[k] = (x-1, y), (x, y+1)\n",
    "    elif v == 'F':\n",
    "        directions[k] = (x+1, y), (x, y+1)\n",
    "    elif v == '|':\n",
    "        directions[k] = (x, y-1), (x, y+1)\n",
    "    elif v == '-':\n",
    "        directions[k] = (x-1, y), (x+1, y)\n",
    "\n",
    "while not finished:\n",
    "    finished = True\n",
    "    pos = loop[-1]\n",
    "    if len(loop) == 1:\n",
    "        for k, v in directions.items():\n",
    "            if pos in v and k not in loop:\n",
    "                loop.append(k)\n",
    "                finished = False\n",
    "                break\n",
    "    else:\n",
    "        for direction in directions[pos]:\n",
    "            if not direction in loop:\n",
    "                loop.append(direction)\n",
    "                finished = False\n",
    "\n",
    "\n",
    "print(len(loop) / 2)\n"
   ]
  },
  {
   "cell_type": "code",
   "execution_count": 312,
   "outputs": [
    {
     "name": "stdout",
     "output_type": "stream",
     "text": [
      "19600\n",
      "5470\n",
      "13298\n"
     ]
    }
   ],
   "source": [
    "for p in outside:\n",
    "    if p in loop:\n",
    "        outside.remove(p)\n",
    "\n",
    "finished = False\n",
    "pos_added = len(outside)\n",
    "\n",
    "while not finished:\n",
    "    finished = True\n",
    "    new_pos = 0\n",
    "    for p in outside[-pos_added:]:\n",
    "        x, y = p\n",
    "        x_change = [-1, 1, 0, 0]\n",
    "        y_change = [0, 0, -1, 1]\n",
    "        for i in range(4):\n",
    "            position = (x + x_change[i], y + y_change[i])\n",
    "            if position in datadict.keys() and not position in loop and not position in outside:\n",
    "                new_pos += 1\n",
    "                outside.append(position)\n",
    "                finished = False\n",
    "    pos_added = new_pos\n",
    "\n",
    "\n",
    "print(len(datadict.keys()))\n",
    "print(len(outside))\n",
    "print(len(loop))\n",
    "\n",
    "# 833 too high\n"
   ],
   "metadata": {
    "collapsed": false,
    "ExecuteTime": {
     "end_time": "2023-12-10T17:24:09.987854600Z",
     "start_time": "2023-12-10T17:23:58.557798Z"
    }
   },
   "id": "afccc3851f708db3"
  },
  {
   "cell_type": "code",
   "execution_count": 325,
   "outputs": [],
   "source": [
    "from collections import defaultdict\n",
    "\n",
    "trans = str.maketrans({'F': 'F-',\n",
    "                       'L': 'L-',\n",
    "                       '7': '7.',\n",
    "                       'J': 'J.',\n",
    "                       '.': '..',\n",
    "                       '|': '|.',\n",
    "                       '-': '--',\n",
    "                       'S': 'S.'}) \n",
    "\n",
    "with open('data/day10.txt') as inputdata:\n",
    "    data = [[x for x in line.translate(trans)[:-1]] for line in inputdata.read().splitlines()]\n",
    "\n",
    "data_new = []\n",
    "trans = str.maketrans({'F': '|',\n",
    "                       'L': '.',\n",
    "                       '7': '|',\n",
    "                       'J': '.',\n",
    "                       '-': '.',\n",
    "                       'S': '.'\n",
    "                       })\n",
    "\n",
    "for line in data:\n",
    "    data_new.append(line)\n",
    "    data_new.append([])\n",
    "    for v in line:\n",
    "        data_new[-1].append(v.translate(trans))\n",
    "data_new.remove(data_new[-1])\n",
    "\n",
    "# stringdata = ''\n",
    "# for line in data_new:\n",
    "#     for elem in line:\n",
    "#         stringdata += elem\n",
    "#     stringdata += '\\n'\n",
    "# \n",
    "# print(stringdata)\n"
   ],
   "metadata": {
    "collapsed": false,
    "ExecuteTime": {
     "end_time": "2023-12-10T17:38:43.616938200Z",
     "start_time": "2023-12-10T17:38:43.575392200Z"
    }
   },
   "id": "85efe6c2f14c5ca2"
  },
  {
   "cell_type": "code",
   "execution_count": 326,
   "outputs": [
    {
     "name": "stdout",
     "output_type": "stream",
     "text": [
      "77841\n",
      "26596\n"
     ]
    }
   ],
   "source": [
    "datadict2 = defaultdict(list)\n",
    "directions2 = defaultdict()\n",
    "outside2 = []\n",
    "total2 = []\n",
    "\n",
    "pos2 = (0, 0)\n",
    "for i, v in enumerate(data_new):\n",
    "    for j, w in enumerate(v):\n",
    "        datadict2[(j, i)] = [w]\n",
    "        total2.append((j, i))\n",
    "        if w == 'S':\n",
    "            pos2 = (j, i)\n",
    "        if j == 0 or i == 0:\n",
    "            outside2.append((j, i))\n",
    "\n",
    "for k, v in datadict2.items():\n",
    "    x, y = k\n",
    "    v = v[0]\n",
    "    if v == 'L':\n",
    "        directions2[k] = (x+1, y), (x, y-1)\n",
    "    elif v == 'J':\n",
    "        directions2[k] = (x-1, y), (x, y-1)\n",
    "    elif v == '7':\n",
    "        directions2[k] = (x-1, y), (x, y+1)\n",
    "    elif v == 'F':\n",
    "        directions2[k] = (x+1, y), (x, y+1)\n",
    "    elif v == '|':\n",
    "        directions2[k] = (x, y-1), (x, y+1)\n",
    "    elif v == '-':\n",
    "        directions2[k] = (x-1, y), (x+1, y)\n",
    "\n",
    "finished = False\n",
    "loop2 = [pos2]\n",
    "\n",
    "while not finished:\n",
    "    finished = True\n",
    "    pos2 = loop2[-1]\n",
    "    if len(loop2) == 1:\n",
    "        for k, v in directions2.items():\n",
    "            if pos2 in v and k not in loop2:\n",
    "                loop2.append(k)\n",
    "                finished = False\n",
    "                break\n",
    "    else:\n",
    "        for direction in directions2[pos2]:\n",
    "            if not direction in loop2:\n",
    "                loop2.append(direction)\n",
    "                finished = False\n",
    "\n",
    "print(len(total2))\n",
    "print(len(loop2))"
   ],
   "metadata": {
    "collapsed": false,
    "ExecuteTime": {
     "end_time": "2023-12-10T17:39:21.972329400Z",
     "start_time": "2023-12-10T17:38:51.577087300Z"
    }
   },
   "id": "f09bda7a0914e6c9"
  },
  {
   "cell_type": "code",
   "execution_count": 327,
   "outputs": [
    {
     "name": "stdout",
     "output_type": "stream",
     "text": [
      "557\n",
      "554\n"
     ]
    }
   ],
   "source": [
    "print(len(outside2))\n",
    "outside2 = [x for x in outside2 if not x in loop2]\n",
    "print(len(outside2))\n",
    "finished = False\n",
    "pos_added2 = len(outside2)\n",
    "\n",
    "while not finished:\n",
    "    finished = True\n",
    "    new_pos2 = 0\n",
    "    for p in outside2[-pos_added2:]:\n",
    "        x, y = p\n",
    "        x_change = [-1, 1, 0, 0]\n",
    "        y_change = [0, 0, -1, 1]\n",
    "        for i in range(4):\n",
    "            position2 = (x + x_change[i], y + y_change[i])\n",
    "            if position2 in total2 and not position2 in loop2 and not position2 in outside2:\n",
    "                new_pos2 += 1\n",
    "                outside2.append(position2)\n",
    "                finished = False\n",
    "    pos_added2 = new_pos2"
   ],
   "metadata": {
    "collapsed": false,
    "ExecuteTime": {
     "end_time": "2023-12-10T17:48:35.405697800Z",
     "start_time": "2023-12-10T17:39:32.669859Z"
    }
   },
   "id": "436d5084d851fb73"
  },
  {
   "cell_type": "code",
   "execution_count": 329,
   "outputs": [
    {
     "name": "stdout",
     "output_type": "stream",
     "text": [
      "19600\n",
      "5701\n",
      "13298\n",
      "601\n"
     ]
    }
   ],
   "source": [
    "outside2 = [(x,y) for x, y in outside2 if x%2 == 0 and y%2 == 0]\n",
    "loop2 = [(x,y) for x, y in loop2 if x%2 == 0 and y%2 == 0]\n",
    "total2 = [(x,y) for x, y in total2 if x%2 == 0 and y%2 == 0]\n",
    " \n",
    "print(len(total2))\n",
    "print(len(outside2))\n",
    "print(len(loop2))\n",
    "print(len(total2) - len(outside2) - len(loop2))\n",
    "\n",
    "# 833 too high"
   ],
   "metadata": {
    "collapsed": false,
    "ExecuteTime": {
     "end_time": "2023-12-10T17:48:45.562733900Z",
     "start_time": "2023-12-10T17:48:45.542906Z"
    }
   },
   "id": "a8e986d7188aab53"
  }
 ],
 "metadata": {
  "kernelspec": {
   "display_name": "Python 3",
   "language": "python",
   "name": "python3"
  },
  "language_info": {
   "codemirror_mode": {
    "name": "ipython",
    "version": 2
   },
   "file_extension": ".py",
   "mimetype": "text/x-python",
   "name": "python",
   "nbconvert_exporter": "python",
   "pygments_lexer": "ipython2",
   "version": "2.7.6"
  }
 },
 "nbformat": 4,
 "nbformat_minor": 5
}
