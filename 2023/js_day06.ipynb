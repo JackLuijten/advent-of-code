{
 "cells": [
  {
   "cell_type": "code",
   "execution_count": 62,
   "id": "9e831a608a80a656",
   "metadata": {
    "collapsed": true,
    "ExecuteTime": {
     "end_time": "2023-12-06T07:26:34.330250Z",
     "start_time": "2023-12-06T07:26:34.327387800Z"
    }
   },
   "outputs": [
    {
     "name": "stdout",
     "output_type": "stream",
     "text": [
      "220320\n"
     ]
    }
   ],
   "source": [
    "import re\n",
    "\n",
    "with open('data/day06.txt') as input:\n",
    "    data = [[int(x) for x in re.findall('\\d+',line)] for line in input.read().splitlines()]\n",
    "\n",
    "ans1 = 1\n",
    "d2 = ''\n",
    "w2 = ''\n",
    "\n",
    "for i in range(len(data[0])):\n",
    "    d = data[0][i]\n",
    "    w = data[1][i]\n",
    "    d2 += str(d)\n",
    "    w2 += str(w)\n",
    "    o = 0\n",
    "    for j in range(1, d):\n",
    "        r = d - j\n",
    "        if r * j > w:\n",
    "            o += 1\n",
    "    ans1 *= o\n",
    "\n",
    "print(ans1)"
   ]
  },
  {
   "cell_type": "code",
   "execution_count": 66,
   "outputs": [
    {
     "name": "stdout",
     "output_type": "stream",
     "text": [
      "34454850\n"
     ]
    }
   ],
   "source": [
    "d2 = int(d2)\n",
    "w2 = int(w2)\n",
    "\n",
    "ans2 = 0\n",
    "for t in range(1, d2):\n",
    "    r = d2 - t\n",
    "    if r * t > w2:\n",
    "        ans2 += 1\n",
    "\n",
    "print(ans2)"
   ],
   "metadata": {
    "collapsed": false,
    "ExecuteTime": {
     "end_time": "2023-12-06T07:27:31.115903900Z",
     "start_time": "2023-12-06T07:27:22.111340700Z"
    }
   },
   "id": "initial_id"
  },
  {
   "cell_type": "code",
   "execution_count": 65,
   "outputs": [
    {
     "name": "stdout",
     "output_type": "stream",
     "text": [
      "[12670862.12325469 47125712.87674531]\n",
      "34454850.0\n"
     ]
    }
   ],
   "source": [
    "# distance = (duration - x) * x\n",
    "# too solve: -x ** 2 + d2 * x - w2 = 0\n",
    "\n",
    "import numpy as np\n",
    "\n",
    "coeff = [-1, d2, -w2]\n",
    "z = np.roots(coeff)\n",
    "z.sort()\n",
    "\n",
    "print(z)\n",
    "print(abs(np.floor(z[1]) - np.floor(z[0])))"
   ],
   "metadata": {
    "collapsed": false,
    "ExecuteTime": {
     "end_time": "2023-12-06T07:27:05.198839Z",
     "start_time": "2023-12-06T07:27:05.192509100Z"
    }
   },
   "id": "f941e29ed5e00633"
  }
 ],
 "metadata": {
  "kernelspec": {
   "display_name": "Python 3",
   "language": "python",
   "name": "python3"
  },
  "language_info": {
   "codemirror_mode": {
    "name": "ipython",
    "version": 2
   },
   "file_extension": ".py",
   "mimetype": "text/x-python",
   "name": "python",
   "nbconvert_exporter": "python",
   "pygments_lexer": "ipython2",
   "version": "2.7.6"
  }
 },
 "nbformat": 4,
 "nbformat_minor": 5
}
