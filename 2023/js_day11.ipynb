{
 "cells": [
  {
   "cell_type": "code",
   "execution_count": 54,
   "id": "initial_id",
   "metadata": {
    "collapsed": true,
    "ExecuteTime": {
     "end_time": "2023-12-11T05:51:20.790758300Z",
     "start_time": "2023-12-11T05:51:20.776442900Z"
    }
   },
   "outputs": [],
   "source": [
    "from collections import defaultdict\n",
    "\n",
    "with open('data/day11.txt') as input:\n",
    "    data = [[x for x in line] for line in input.read().splitlines()]\n",
    "\n",
    "rows_to_duplicate = []\n",
    "cols_to_duplicate = []\n",
    "cols_dict = defaultdict(int)\n",
    "\n",
    "for i, v in enumerate(data):\n",
    "    if len(v) == v.count('.'):\n",
    "        rows_to_duplicate.append(i)\n",
    "\n",
    "for i, v in enumerate(data):\n",
    "    for j, w in enumerate(v):\n",
    "        cols_dict[j] += 1 if w == '.' else 0\n",
    "\n",
    "for k, v in cols_dict.items():\n",
    "    if v == len(data[0]):\n",
    "        cols_to_duplicate.append(k)\n",
    "\n",
    "# old solution, in which I added rows and columns\n",
    "# rows_to_duplicate.reverse()\n",
    "# cols_to_duplicate.reverse()\n",
    "# \n",
    "# for row in rows_to_duplicate:\n",
    "#     data.insert(row, data[row])\n",
    "# \n",
    "# for col in cols_to_duplicate:\n",
    "#     for i in range(len(data)):\n",
    "#         data[i].insert(col, '.')\n"
   ]
  },
  {
   "cell_type": "code",
   "execution_count": 55,
   "outputs": [],
   "source": [
    "from itertools import combinations\n",
    "\n",
    "galaxies = defaultdict()\n",
    "num_gal = 1\n",
    "for i, v in enumerate(data):\n",
    "    for j, k in enumerate(v):\n",
    "        if k == '#':\n",
    "            galaxies[num_gal] = (j, i)\n",
    "            num_gal += 1\n",
    "\n",
    "gal_combinations = list(combinations(galaxies.keys(), 2))"
   ],
   "metadata": {
    "collapsed": false,
    "ExecuteTime": {
     "end_time": "2023-12-11T05:51:22.725627Z",
     "start_time": "2023-12-11T05:51:22.662830500Z"
    }
   },
   "id": "e75958317dc4d1a0"
  },
  {
   "cell_type": "code",
   "execution_count": 56,
   "outputs": [
    {
     "name": "stdout",
     "output_type": "stream",
     "text": [
      "9536038\n",
      "543876840687\n"
     ]
    }
   ],
   "source": [
    "total_dist1 = 0\n",
    "total_dist2 = 0\n",
    "\n",
    "for trip in gal_combinations:\n",
    "    start, end = trip\n",
    "    x1, y1 = galaxies[start]\n",
    "    x2, y2 = galaxies[end]\n",
    "    dist1 = abs(x2 - x1) + abs(y2 - y1)\n",
    "    dist2 = dist\n",
    "    for empty_col in cols_to_duplicate:\n",
    "        if min(x1, x2) < empty_col < max(x1, x2):\n",
    "            dist1 += 1\n",
    "            dist2 += 1000000 - 1            \n",
    "    for empty_row in rows_to_duplicate:\n",
    "        if min(y1, y2) < empty_row < max(y1, y2):\n",
    "            dist1 += 1\n",
    "            dist2 += 1000000 - 1\n",
    "    total_dist1 += dist1\n",
    "    total_dist2 += dist2\n",
    "    \n",
    "print(total_dist1)\n",
    "print(total_dist2)"
   ],
   "metadata": {
    "collapsed": false,
    "ExecuteTime": {
     "end_time": "2023-12-11T05:51:25.386295200Z",
     "start_time": "2023-12-11T05:51:24.784163Z"
    }
   },
   "id": "3db3bf5f27b910a9"
  }
 ],
 "metadata": {
  "kernelspec": {
   "display_name": "Python 3",
   "language": "python",
   "name": "python3"
  },
  "language_info": {
   "codemirror_mode": {
    "name": "ipython",
    "version": 2
   },
   "file_extension": ".py",
   "mimetype": "text/x-python",
   "name": "python",
   "nbconvert_exporter": "python",
   "pygments_lexer": "ipython2",
   "version": "2.7.6"
  }
 },
 "nbformat": 4,
 "nbformat_minor": 5
}
