{
 "cells": [
  {
   "cell_type": "code",
   "execution_count": 117,
   "id": "initial_id",
   "metadata": {
    "collapsed": true,
    "ExecuteTime": {
     "end_time": "2023-12-09T06:49:25.477554700Z",
     "start_time": "2023-12-09T06:49:25.423717700Z"
    }
   },
   "outputs": [
    {
     "name": "stdout",
     "output_type": "stream",
     "text": [
      "1877825184\n",
      "1108\n"
     ]
    }
   ],
   "source": [
    "import numpy as np\n",
    "\n",
    "with open('data/day09.txt') as input:\n",
    "    data = [[int(x) for x in line.split()] for line in input.read().splitlines()]\n",
    "\n",
    "def get_next_num(input, next_num):\n",
    "    diff = np.diff(input)\n",
    "    next_num += diff[-1]\n",
    "    if not (len(np.unique(diff)) == 1 and sum(diff) != 0):\n",
    "        next_num = get_next_num(diff, next_num)\n",
    "    return next_num\n",
    "\n",
    "def get_prev_num(input, prev_num, oddeven):\n",
    "    diff = np.diff(input)\n",
    "    prev_num -= diff[0] * oddeven\n",
    "    oddeven *= -1\n",
    "    if not (len(np.unique(diff)) == 1 and sum(diff) == 0):\n",
    "        prev_num = get_prev_num(diff, prev_num, oddeven)\n",
    "    return prev_num\n",
    "\n",
    "ans1, ans2 = [0, 0]\n",
    "for i, v in enumerate(data):\n",
    "     new_value = get_next_num(v, v[-1])\n",
    "     prev_value = get_prev_num(v, v[0], 1)\n",
    "     ans1 += new_value\n",
    "     ans2 += prev_value\n",
    "\n",
    "print(ans1)\n",
    "print(ans2)\n"
   ]
  }
 ],
 "metadata": {
  "kernelspec": {
   "display_name": "Python 3",
   "language": "python",
   "name": "python3"
  },
  "language_info": {
   "codemirror_mode": {
    "name": "ipython",
    "version": 2
   },
   "file_extension": ".py",
   "mimetype": "text/x-python",
   "name": "python",
   "nbconvert_exporter": "python",
   "pygments_lexer": "ipython2",
   "version": "2.7.6"
  }
 },
 "nbformat": 4,
 "nbformat_minor": 5
}
