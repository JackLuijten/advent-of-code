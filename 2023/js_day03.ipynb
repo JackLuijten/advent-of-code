{
 "cells": [
  {
   "cell_type": "code",
   "execution_count": 97,
   "metadata": {
    "collapsed": true,
    "ExecuteTime": {
     "end_time": "2023-12-03T20:49:54.133528600Z",
     "start_time": "2023-12-03T20:49:54.083592500Z"
    }
   },
   "outputs": [
    {
     "name": "stdout",
     "output_type": "stream",
     "text": [
      "533784\n",
      "78826761\n"
     ]
    }
   ],
   "source": [
    "with open('data/day03.txt') as input:\n",
    "    data = [f\".{x}.\" for x in input.read().splitlines()]\n",
    "\n",
    "blankrow = '.'*len(data[0])\n",
    "data.insert(0,blankrow)\n",
    "data.append(blankrow)\n",
    "l = len(data[0])\n",
    "\n",
    "singlelinedata = ''\n",
    "for row in data:\n",
    "    singlelinedata += row\n",
    "\n",
    "def get_adjacent(array, matrix):\n",
    "    calculate_adjacent = array[:]\n",
    "    adjacent = [array[0] - 1, array[-1] + 1]\n",
    "    calculate_adjacent += adjacent\n",
    "    for j in calculate_adjacent:\n",
    "        adjacent.append(j - l)\n",
    "        adjacent.append(j + l)\n",
    "    adjacent.sort()\n",
    "    adjacent_values = []\n",
    "    gear = None\n",
    "    for i in adjacent:\n",
    "        adjacent_values.append(matrix[i]) if matrix[i] != '.' else None\n",
    "        if matrix[i] == '*':\n",
    "            gear = i\n",
    "    return adjacent_values, gear\n",
    "\n",
    "number = ''\n",
    "number_list = []\n",
    "correct_numbers = []\n",
    "gear_dict = {}\n",
    "\n",
    "for i, v in enumerate(singlelinedata):\n",
    "    if v.isnumeric():\n",
    "        number += v\n",
    "        number_list.append(i)\n",
    "    if not v.isnumeric() and number != '':\n",
    "        adjacent_values, gear = get_adjacent(number_list, singlelinedata)\n",
    "        if len(adjacent_values) == 1:\n",
    "            correct_numbers.append(int(number))\n",
    "        if not gear is None:\n",
    "            if gear in gear_dict.keys():\n",
    "                gear_dict[gear].append(int(number))\n",
    "            else:\n",
    "                gear_dict[gear] = [int(number)]\n",
    "        number = ''\n",
    "        number_list = []\n",
    "\n",
    "print(sum(correct_numbers))\n",
    "gearvalue = 0\n",
    "\n",
    "for v in gear_dict.values():\n",
    "    if len(v) == 2:\n",
    "        gearvalue += v[0] * v[1]\n",
    "\n",
    "print(gearvalue)\n"
   ]
  }
 ],
 "metadata": {
  "kernelspec": {
   "display_name": "Python 3",
   "language": "python",
   "name": "python3"
  },
  "language_info": {
   "codemirror_mode": {
    "name": "ipython",
    "version": 2
   },
   "file_extension": ".py",
   "mimetype": "text/x-python",
   "name": "python",
   "nbconvert_exporter": "python",
   "pygments_lexer": "ipython2",
   "version": "2.7.6"
  }
 },
 "nbformat": 4,
 "nbformat_minor": 0
}
