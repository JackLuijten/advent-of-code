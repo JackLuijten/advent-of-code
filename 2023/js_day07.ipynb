{
 "cells": [
  {
   "cell_type": "code",
   "execution_count": 10,
   "id": "initial_id",
   "metadata": {
    "collapsed": true,
    "ExecuteTime": {
     "end_time": "2023-12-07T10:13:43.459553300Z",
     "start_time": "2023-12-07T10:13:42.879460800Z"
    }
   },
   "outputs": [
    {
     "name": "stdout",
     "output_type": "stream",
     "text": [
      "248453531\n",
      "248781813\n"
     ]
    }
   ],
   "source": [
    "from collections import Counter\n",
    "import copy\n",
    "\n",
    "with open('data/day07.txt') as input:\n",
    "    data = [[x for x in line.split()] for line in input.read().splitlines()]\n",
    "\n",
    "card_values  = ['2', '3', '4', '5', '6', '7', '8', '9', 'T', 'J', 'Q', 'K', 'A']\n",
    "card_values2 = ['J', '2', '3', '4', '5', '6', '7', '8', '9', 'T', 'Q', 'K', 'A']\n",
    "\n",
    "for i, v in enumerate(data):\n",
    "    cards_count = Counter([x for x in v[0]])\n",
    "    jokers = v[0].count('J')\n",
    "    to_check = [j for i,j in enumerate(v[0]) if j!='J']\n",
    "    cards_count_jokers = Counter([x for x in to_check])\n",
    "\n",
    "    if max(cards_count.values()) == 5:\n",
    "        data[i].append(6) # Five of a kind\n",
    "    elif max(cards_count.values()) == 4:\n",
    "        data[i].append(5) # Four of a kind\n",
    "    elif max(cards_count.values()) == 3:\n",
    "        if min(cards_count.values()) == 2:\n",
    "            data[i].append(4) # Full house\n",
    "        else:\n",
    "            data[i].append(3) # Three of a kind\n",
    "    elif max(cards_count.values()) == 2:\n",
    "        if Counter(cards_count.values())[2] == 2:\n",
    "            data[i].append(2) # Two pair\n",
    "        else:\n",
    "            data[i].append(1) # One pair\n",
    "    else:\n",
    "        data[i].append(0) # High card\n",
    "\n",
    "    if jokers == 5:\n",
    "        data[i].append(6)\n",
    "    elif max(cards_count_jokers.values()) + jokers == 5:\n",
    "        data[i].append(6) # Five of a kind\n",
    "    elif max(cards_count_jokers.values()) + jokers == 4:\n",
    "        data[i].append(5) # Four of a kind\n",
    "    elif max(cards_count_jokers.values()) + jokers == 3:\n",
    "        if Counter(cards_count_jokers.values())[2] == 2 or (Counter(cards_count_jokers.values())[2] == 1 and jokers == 0):\n",
    "            data[i].append(4) # Full house           \n",
    "        else:\n",
    "            data[i].append(3) # Three of a kind\n",
    "    elif max(cards_count_jokers.values()) + jokers == 2:\n",
    "        if (Counter(cards_count_jokers.values())[2] == 1 and jokers > 0) or (Counter(cards_count_jokers.values())[2] == 2 and jokers == 0):\n",
    "            data[i].append(2) # Two pair\n",
    "        else:\n",
    "            data[i].append(1) # One pair\n",
    "    else:\n",
    "        data[i].append(0) # High card\n",
    "\n",
    "def sort_cards(sortby, valuelist):\n",
    "    n = len(data)\n",
    "    for i in range(n - 1):\n",
    "        swapped = False\n",
    "        for j in range(n - i - 1):\n",
    "            if data[j][sortby] > data[j+1][sortby]:\n",
    "                swapped = True\n",
    "                data[j], data[j+1] = data[j+1], data[j]\n",
    "            elif data[j][sortby] == data[j+1][sortby]:\n",
    "                for k in range(len(data[j][0])):\n",
    "                    card_cur = valuelist.index(data[j][0][k])\n",
    "                    card_nxt = valuelist.index(data[j+1][0][k])\n",
    "                    if card_cur > card_nxt:\n",
    "                        swapped = True\n",
    "                        data[j], data[j+1] = data[j+1], data[j]\n",
    "                    if card_cur != card_nxt:\n",
    "                        break\n",
    "        if not swapped:\n",
    "            break\n",
    "\n",
    "ans1 = 0\n",
    "sort_cards(2, card_values)\n",
    "for i in range(len(data)):\n",
    "    ans1 += int(data[i][1]) * (i + 1)\n",
    "\n",
    "print(ans1)\n",
    "\n",
    "ans2 = 0\n",
    "sort_cards(3,card_values2)\n",
    "for i in range(len(data)):\n",
    "    ans2 += int(data[i][1]) * (i + 1)\n",
    "\n",
    "print(ans2)"
   ]
  }
 ],
 "metadata": {
  "kernelspec": {
   "display_name": "Python 3",
   "language": "python",
   "name": "python3"
  },
  "language_info": {
   "codemirror_mode": {
    "name": "ipython",
    "version": 2
   },
   "file_extension": ".py",
   "mimetype": "text/x-python",
   "name": "python",
   "nbconvert_exporter": "python",
   "pygments_lexer": "ipython2",
   "version": "2.7.6"
  }
 },
 "nbformat": 4,
 "nbformat_minor": 5
}
