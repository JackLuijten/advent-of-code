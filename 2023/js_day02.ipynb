{
 "cells": [
  {
   "cell_type": "code",
   "execution_count": 40,
   "metadata": {
    "collapsed": true,
    "ExecuteTime": {
     "end_time": "2023-12-02T09:40:10.737111400Z",
     "start_time": "2023-12-02T09:40:10.736604800Z"
    }
   },
   "outputs": [],
   "source": [
    "with open('data/day02.txt') as input:\n",
    "    data = [x.split(': ') for x in input.read().splitlines()]\n",
    "\n",
    "for i, v in enumerate(data):\n",
    "    data[i][0] = int(v[0].removeprefix('Game '))\n",
    "    data[i][1] = v[1].split('; ')\n"
   ]
  },
  {
   "cell_type": "code",
   "execution_count": 41,
   "outputs": [
    {
     "name": "stdout",
     "output_type": "stream",
     "text": [
      "2512\n"
     ]
    }
   ],
   "source": [
    "ans = 0\n",
    "max_dict = {'red': 12,\n",
    "            'green': 13,\n",
    "            'blue': 14\n",
    "            }\n",
    "\n",
    "for game in data:\n",
    "    possible = True\n",
    "    for set in game[1]:\n",
    "        for cubes in set.split(', '):\n",
    "            amount, color = cubes.split(' ')\n",
    "            if int(amount) > max_dict[color]:\n",
    "                possible = False\n",
    "    ans += game[0] if possible else 0\n",
    "\n",
    "print(ans)\n"
   ],
   "metadata": {
    "collapsed": false,
    "ExecuteTime": {
     "end_time": "2023-12-02T09:40:12.222189Z",
     "start_time": "2023-12-02T09:40:12.216162900Z"
    }
   }
  },
  {
   "cell_type": "code",
   "execution_count": 42,
   "outputs": [
    {
     "name": "stdout",
     "output_type": "stream",
     "text": [
      "67335\n"
     ]
    }
   ],
   "source": [
    "ans = 0\n",
    "\n",
    "for game in data:\n",
    "    min_dict = {'red': 0,\n",
    "                'green': 0,\n",
    "                'blue':0\n",
    "                }\n",
    "    min_amount = 1\n",
    "    for set in game[1]:\n",
    "        for cubes in set.split(', '):\n",
    "            amount, color = cubes.split(' ')\n",
    "            if int(amount) > min_dict[color]:\n",
    "                min_dict[color] = int(amount)\n",
    "    for v in min_dict.values():\n",
    "        min_amount *= v\n",
    "    ans += min_amount\n",
    "\n",
    "print(ans)\n"
   ],
   "metadata": {
    "collapsed": false,
    "ExecuteTime": {
     "end_time": "2023-12-02T09:40:13.681353700Z",
     "start_time": "2023-12-02T09:40:13.677148Z"
    }
   }
  }
 ],
 "metadata": {
  "kernelspec": {
   "display_name": "Python 3",
   "language": "python",
   "name": "python3"
  },
  "language_info": {
   "codemirror_mode": {
    "name": "ipython",
    "version": 2
   },
   "file_extension": ".py",
   "mimetype": "text/x-python",
   "name": "python",
   "nbconvert_exporter": "python",
   "pygments_lexer": "ipython2",
   "version": "2.7.6"
  }
 },
 "nbformat": 4,
 "nbformat_minor": 0
}
