{
 "cells": [
  {
   "cell_type": "code",
   "execution_count": 108,
   "metadata": {
    "collapsed": true
   },
   "outputs": [
    {
     "name": "stdout",
     "output_type": "stream",
     "text": [
      "55930\n",
      "14636993466\n"
     ]
    }
   ],
   "source": [
    "import operator\n",
    "import copy\n",
    "\n",
    "ops = {\n",
    "    \"+\": operator.add,\n",
    "    \"-\": operator.sub,\n",
    "    \"*\": operator.mul,\n",
    "    \"/\": operator.truediv,\n",
    "    \"%\": operator.mod\n",
    "}\n",
    "\n",
    "with open('data/day11.csv') as f:\n",
    "    input = f.read().split('\\n\\n')\n",
    "    monkeys = [[j for j in i.split('\\n')] for i in input]\n",
    "\n",
    "monkeysDict = {}\n",
    "for l in monkeys:\n",
    "    n = l[0].replace(':','').lower()\n",
    "    monkeysDict[n] = {}\n",
    "    monkeysDict[n]['Starting items'] = [int(i) for i in l[1].split(': ')[1].split(', ')]\n",
    "    monkeysDict[n]['Operation'] = [i for i in l[2].split('new = old ')[1].split(' ')]\n",
    "    monkeysDict[n]['Test'] = [int(l[3].split('divisible by ')[1]), l[4].split('throw to ')[1], l[5].split('throw to ')[1]]\n",
    "    monkeysDict[n]['Inspected'] = 0\n",
    "\n",
    "def playRound(dict, operator, divideBy):\n",
    "    for m, v in dict.items():\n",
    "        for item in v['Starting items']:\n",
    "            v['Inspected'] += 1\n",
    "            old = item\n",
    "            num_2 = old if v['Operation'][1] == 'old' else int(v['Operation'][1])\n",
    "            new = int(ops[operator](ops[v['Operation'][0]](item, num_2),divideBy))\n",
    "            if new % v['Test'][0] == 0:\n",
    "                dict[v['Test'][1]]['Starting items'].append(new)\n",
    "            else:\n",
    "                dict[v['Test'][2]]['Starting items'].append(new)\n",
    "        v['Starting items'] = []\n",
    "\n",
    "part1 = copy.deepcopy(monkeysDict)\n",
    "part2 = copy.deepcopy(monkeysDict)\n",
    "\n",
    "for i in range(20):\n",
    "    playRound(part1, \"/\", 3)\n",
    "\n",
    "inspected = []\n",
    "for m, v in part1.items():\n",
    "    inspected.append(v['Inspected'])\n",
    "inspected.sort(reverse=True)\n",
    "print(inspected[0] * inspected[1])\n",
    "\n",
    "testNumbers = [v['Test'][0] for k, v in monkeysDict.items()]\n",
    "testProduct = 1\n",
    "for i in testNumbers:\n",
    "    testProduct *= i\n",
    "\n",
    "for i in range(10000):\n",
    "    playRound(part2, \"%\", testProduct)\n",
    "\n",
    "inspected = []\n",
    "for m, v in part2.items():\n",
    "    inspected.append(v['Inspected'])\n",
    "inspected.sort(reverse=True)\n",
    "print(inspected[0] * inspected[1])\n",
    "\n"
   ]
  }
 ],
 "metadata": {
  "kernelspec": {
   "display_name": "Python 3",
   "language": "python",
   "name": "python3"
  },
  "language_info": {
   "codemirror_mode": {
    "name": "ipython",
    "version": 2
   },
   "file_extension": ".py",
   "mimetype": "text/x-python",
   "name": "python",
   "nbconvert_exporter": "python",
   "pygments_lexer": "ipython2",
   "version": "2.7.6"
  }
 },
 "nbformat": 4,
 "nbformat_minor": 0
}