{
 "cells": [
  {
   "cell_type": "code",
   "execution_count": 105,
   "metadata": {
    "collapsed": true
   },
   "outputs": [
    {
     "name": "stdout",
     "output_type": "stream",
     "text": [
      "1690\n",
      "535680\n"
     ]
    }
   ],
   "source": [
    "with open('data/day08.csv') as f:\n",
    "    input = f.read().split('\\n')\n",
    "    grid = [[int(i) for i in j] for j in input]\n",
    "\n",
    "w = len(grid[0])\n",
    "l = len(grid)\n",
    "\n",
    "def checktree(x, y):\n",
    "    visible = 0\n",
    "    h = grid[y][x]\n",
    "    vertical = [i[x] for i in grid]\n",
    "    vleft = (h == max(grid[y][:x + 1]) and grid[y][:x + 1].count(h) == 1)\n",
    "    vtop = (h == max(vertical[:y + 1]) and vertical[:y + 1].count(h) == 1)\n",
    "    vright = (h == max(grid[y][x:]) and grid[y][x:].count(h) == 1)\n",
    "    vbottom = (h == max(vertical[y:]) and vertical[y:].count(h) == 1)\n",
    "    if vleft or vtop or vright or vbottom:\n",
    "        visible = 1\n",
    "    return visible\n",
    "\n",
    "visibleTrees = 0\n",
    "\n",
    "for i in range(w):\n",
    "    for j in range(l):\n",
    "        visibleTrees += checktree(i, j)\n",
    "\n",
    "print(visibleTrees)\n",
    "\n",
    "def scenicScore(x, y):\n",
    "    vertical = [i[x] for i in grid]\n",
    "    l = grid[y][:x + 1]\n",
    "    l.reverse()\n",
    "    r = grid[y][x:]\n",
    "    u = vertical[:y + 1]\n",
    "    u.reverse()\n",
    "    d = vertical[y:]\n",
    "    h = grid[y][x]\n",
    "    left = calculateScore(h, l)\n",
    "    right = calculateScore(h, r)\n",
    "    up = calculateScore(h, u)\n",
    "    down = calculateScore(h, d)\n",
    "    return left * right * up * down\n",
    "\n",
    "def calculateScore(heigth, treeList):\n",
    "    visible = 0\n",
    "    if len(treeList) == 1:\n",
    "        return visible\n",
    "    for i in range(1, len(treeList)):\n",
    "        prev = -1\n",
    "        if prev <= treeList[i] < heigth:\n",
    "            visible += 1\n",
    "            prev = treeList[i]\n",
    "        elif treeList[i] == heigth and i > 0:\n",
    "            visible += 1\n",
    "            return visible\n",
    "        else:\n",
    "            visible += 1\n",
    "            return visible\n",
    "    return visible\n",
    "\n",
    "maxScore = 0\n",
    "for i in range(w):\n",
    "    for j in range(l):\n",
    "        score = scenicScore(i, j)\n",
    "        if score > maxScore:\n",
    "            maxScore = score\n",
    "\n",
    "print(maxScore)"
   ]
  }
 ],
 "metadata": {
  "kernelspec": {
   "display_name": "Python 3",
   "language": "python",
   "name": "python3"
  },
  "language_info": {
   "codemirror_mode": {
    "name": "ipython",
    "version": 2
   },
   "file_extension": ".py",
   "mimetype": "text/x-python",
   "name": "python",
   "nbconvert_exporter": "python",
   "pygments_lexer": "ipython2",
   "version": "2.7.6"
  }
 },
 "nbformat": 4,
 "nbformat_minor": 0
}