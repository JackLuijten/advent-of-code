{
 "cells": [
  {
   "cell_type": "code",
   "execution_count": 18,
   "outputs": [
    {
     "name": "stdout",
     "output_type": "stream",
     "text": [
      "Max calories carried by an elve: 67450\n",
      "Calories carried by top three elves: 199357\n",
      "runtime: 0.0\n"
     ]
    }
   ],
   "source": [
    "import csv\n",
    "import time\n",
    "\n",
    "start = time.time()\n",
    "\n",
    "elves_data = []\n",
    "\n",
    "with open('data/day01.csv','r') as data:\n",
    "    rowData = csv.reader(data)\n",
    "    sumCalories = 0\n",
    "    for datapoint in rowData:\n",
    "        if not datapoint:\n",
    "            elves_data.append(sumCalories)\n",
    "            sumCalories = 0\n",
    "        else:\n",
    "            sumCalories += int(datapoint[0])\n",
    "    elves_data.append(sumCalories)\n",
    "    max_calories = max(elves_data)\n",
    "    elves_data.sort()\n",
    "    top_three_calories = sum(elves_data[-3:])\n",
    "\n",
    "print(f\"Max calories carried by an elve: {max_calories}\")\n",
    "print(f\"Calories carried by top three elves: {top_three_calories}\")\n",
    "print(f\"runtime: {time.time() - start}\")"
   ],
   "metadata": {
    "collapsed": false,
    "pycharm": {
     "name": "#%%\n"
    }
   }
  }
 ],
 "metadata": {
  "kernelspec": {
   "display_name": "Python 3",
   "language": "python",
   "name": "python3"
  },
  "language_info": {
   "codemirror_mode": {
    "name": "ipython",
    "version": 2
   },
   "file_extension": ".py",
   "mimetype": "text/x-python",
   "name": "python",
   "nbconvert_exporter": "python",
   "pygments_lexer": "ipython2",
   "version": "2.7.6"
  }
 },
 "nbformat": 4,
 "nbformat_minor": 0
}