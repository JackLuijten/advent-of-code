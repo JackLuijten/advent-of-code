{
 "cells": [
  {
   "cell_type": "code",
   "execution_count": 9,
   "outputs": [
    {
     "name": "stdout",
     "output_type": "stream",
     "text": [
      "50095\n"
     ]
    },
    {
     "ename": "AttributeError",
     "evalue": "'dict' object has no attribute 'sorted'",
     "output_type": "error",
     "traceback": [
      "\u001B[1;31m---------------------------------------------------------------------------\u001B[0m",
      "\u001B[1;31mAttributeError\u001B[0m                            Traceback (most recent call last)",
      "Cell \u001B[1;32mIn[9], line 22\u001B[0m\n\u001B[0;32m     20\u001B[0m     \u001B[38;5;28mprint\u001B[39m(sumCalories)\n\u001B[0;32m     21\u001B[0m     max_calories \u001B[38;5;241m=\u001B[39m \u001B[38;5;28mmax\u001B[39m(elves_data\u001B[38;5;241m.\u001B[39mvalues())\n\u001B[1;32m---> 22\u001B[0m     top_three_calories \u001B[38;5;241m=\u001B[39m \u001B[38;5;28msum\u001B[39m(\u001B[43melves_data\u001B[49m\u001B[38;5;241;43m.\u001B[39;49m\u001B[43msorted\u001B[49m()[\u001B[38;5;241m-\u001B[39m\u001B[38;5;241m3\u001B[39m:])\n\u001B[0;32m     23\u001B[0m \u001B[38;5;28mprint\u001B[39m(top_three_calories)\n\u001B[0;32m     24\u001B[0m \u001B[38;5;28mprint\u001B[39m(\u001B[38;5;124mf\u001B[39m\u001B[38;5;124m\"\u001B[39m\u001B[38;5;124mMax calories carried by an elve: \u001B[39m\u001B[38;5;132;01m{\u001B[39;00mmax_calories\u001B[38;5;132;01m}\u001B[39;00m\u001B[38;5;124m\"\u001B[39m)\n",
      "\u001B[1;31mAttributeError\u001B[0m: 'dict' object has no attribute 'sorted'"
     ]
    }
   ],
   "source": [
    "import time\n",
    "start = time.time()\n",
    "\n",
    "import csv\n",
    "\n",
    "elves_data = {}\n",
    "\n",
    "with open('data/day01.csv','r') as data:\n",
    "    rowData = csv.reader(data)\n",
    "    elve = 1\n",
    "    sumCalories = 0\n",
    "    for datapoint in rowData:\n",
    "        if not datapoint:\n",
    "            elves_data[elve] = sumCalories\n",
    "            sumCalories = 0\n",
    "            elve += 1\n",
    "        else:\n",
    "            sumCalories += int(datapoint[0])\n",
    "    #elves_data[elve] = sumCalories\n",
    "    print(sumCalories)\n",
    "    max_calories = max(elves_data.values())\n",
    "    top_three_calories = sum(elves_data.sorted()[-3:])\n",
    "print(top_three_calories)\n",
    "print(f\"Max calories carried by an elve: {max_calories}\")\n",
    "print(f\"Calories carried by top three elves: {calories_top_three}\")\n",
    "print(f\"runtime: {time.time() - start}\")"
   ],
   "metadata": {
    "collapsed": false,
    "pycharm": {
     "name": "#%%\n"
    }
   }
  }
 ],
 "metadata": {
  "kernelspec": {
   "display_name": "Python 3",
   "language": "python",
   "name": "python3"
  },
  "language_info": {
   "codemirror_mode": {
    "name": "ipython",
    "version": 2
   },
   "file_extension": ".py",
   "mimetype": "text/x-python",
   "name": "python",
   "nbconvert_exporter": "python",
   "pygments_lexer": "ipython2",
   "version": "2.7.6"
  }
 },
 "nbformat": 4,
 "nbformat_minor": 0
}