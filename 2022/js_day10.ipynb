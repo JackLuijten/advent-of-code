{
 "cells": [
  {
   "cell_type": "code",
   "execution_count": 100,
   "metadata": {
    "collapsed": true,
    "pycharm": {
     "name": "#%%\n"
    }
   },
   "outputs": [
    {
     "name": "stdout",
     "output_type": "stream",
     "text": [
      "12740\n",
      "###..###..###...##..###...##...##..####.\n",
      "#..#.#..#.#..#.#..#.#..#.#..#.#..#.#....\n",
      "#..#.###..#..#.#..#.#..#.#..#.#....###..\n",
      "###..#..#.###..####.###..####.#.##.#....\n",
      "#.#..#..#.#....#..#.#.#..#..#.#..#.#....\n",
      "#..#.###..#....#..#.#..#.#..#..###.#....\n"
     ]
    }
   ],
   "source": [
    "with open('data/day10.csv') as f:\n",
    "    input = [[i for i in j.split(' ')] for j in f.read().split('\\n')]\n",
    "\n",
    "i = 1\n",
    "for l in input:\n",
    "    if l[0] == 'noop':\n",
    "        l.insert(1, i)\n",
    "        l.insert(2, 0)\n",
    "        i += 1\n",
    "    elif l[0] == 'addx':\n",
    "        l.insert(1, i + 2)\n",
    "        i += 2\n",
    "\n",
    "values = []\n",
    "for v in range (20, 221, 40):\n",
    "    add = 1 + sum([int(i[2]) for i in input if i[1] <= v])\n",
    "    values.append(add * v)\n",
    "print(sum(values))\n",
    "\n",
    "crt = ['' for v in range(6)]\n",
    "row = 0\n",
    "pos = 1\n",
    "for v in range(1, 202, 40):\n",
    "    for i in range(1, 41):\n",
    "        if i in range(pos,pos+3):\n",
    "            crt[row] += '#'\n",
    "        else:\n",
    "            crt[row] += '.'\n",
    "        pos = 1 + sum([int(j[2]) for j in input if j[1] <= v + i])\n",
    "    row += 1\n",
    "\n",
    "for r in crt:\n",
    "    print(r)\n",
    "\n"
   ]
  }
 ],
 "metadata": {
  "kernelspec": {
   "display_name": "Python 3",
   "language": "python",
   "name": "python3"
  },
  "language_info": {
   "codemirror_mode": {
    "name": "ipython",
    "version": 2
   },
   "file_extension": ".py",
   "mimetype": "text/x-python",
   "name": "python",
   "nbconvert_exporter": "python",
   "pygments_lexer": "ipython2",
   "version": "2.7.6"
  }
 },
 "nbformat": 4,
 "nbformat_minor": 0
}