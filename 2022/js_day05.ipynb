{
 "cells": [
  {
   "cell_type": "code",
   "execution_count": 143,
   "metadata": {
    "collapsed": true
   },
   "outputs": [
    {
     "name": "stdout",
     "output_type": "stream",
     "text": [
      "B\n",
      "P\n",
      "C\n",
      "Z\n",
      "J\n",
      "L\n",
      "F\n",
      "J\n",
      "W\n",
      "runtime: 0.016772985458374023\n"
     ]
    }
   ],
   "source": [
    "\n",
    "import csv\n",
    "import time\n",
    "start = time.time()\n",
    "\n",
    "crates = [['C','Z','N','B','M','W','Q','V'],\n",
    "          ['H','Z','R','W','C','B'],\n",
    "          ['F','Q','R','J'],\n",
    "          ['Z','S','W','H','F','N','M','T'],\n",
    "          ['G','F','W','L','N','Q','P'],\n",
    "          ['L','P','W'],\n",
    "          ['V','B','D','R','G','C','Q','J'],\n",
    "          ['Z','Q','N','B','W'],\n",
    "          ['H','L','F','C','G','T','J']]\n",
    "\n",
    "# crates = [['Z','N'],\n",
    "#           ['M','C','D'],\n",
    "#           ['P']]\n",
    "\n",
    "with open('data/day05.csv','r') as data:\n",
    "    row = csv.reader(data)\n",
    "    data = [i[0] for i in row]\n",
    "    move = [int(r.split(' ')[1]) for r in data]\n",
    "    movefrom = [int(r.split(' ')[3]) - 1 for r in data]\n",
    "    moveto = [int(r.split(' ')[5]) - 1 for r in data]\n",
    "    row_count = sum(1 for i in data)\n",
    "\n",
    "# PART 1\n",
    "# for i in range(row_count):\n",
    "#     moveCrateFrom = movefrom[i]\n",
    "#     moveCrateTo = moveto[i]\n",
    "#     numberOfCrates = move[i]\n",
    "#     for j in range(numberOfCrates):\n",
    "#         crates[moveCrateTo].append(crates[moveCrateFrom].pop(-1))\n",
    "\n",
    "# PART 2\n",
    "for i in range(row_count):\n",
    "    moveCrateFrom = movefrom[i]\n",
    "    moveCrateTo = moveto[i]\n",
    "    numberOfCrates = move[i]\n",
    "    for j in reversed(range(1, numberOfCrates + 1)):\n",
    "        crates[moveCrateTo].append(crates[moveCrateFrom].pop(-j))\n",
    "\n",
    "for i in range(len(crates)):\n",
    "    print(crates[i][-1])\n",
    "# print(f\"answer part 1: {FullyContained}\")\n",
    "# print(f\"answer part 2: {overlap}\")\n",
    "print(f\"runtime: {time.time() - start}\")"
   ]
  }
 ],
 "metadata": {
  "kernelspec": {
   "display_name": "Python 3",
   "language": "python",
   "name": "python3"
  },
  "language_info": {
   "codemirror_mode": {
    "name": "ipython",
    "version": 2
   },
   "file_extension": ".py",
   "mimetype": "text/x-python",
   "name": "python",
   "nbconvert_exporter": "python",
   "pygments_lexer": "ipython2",
   "version": "2.7.6"
  }
 },
 "nbformat": 4,
 "nbformat_minor": 0
}