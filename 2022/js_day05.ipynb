{
 "cells": [
  {
   "cell_type": "code",
   "execution_count": 15,
   "metadata": {
    "collapsed": true
   },
   "outputs": [
    {
     "name": "stdout",
     "output_type": "stream",
     "text": [
      "answer part 1: QNHWJVJZW\n",
      "answer part 2: BPCZJLFJW\n",
      "runtime: 0.0\n"
     ]
    }
   ],
   "source": [
    "\n",
    "import csv\n",
    "import time\n",
    "import copy\n",
    "start = time.time()\n",
    "\n",
    "crates = [['C','Z','N','B','M','W','Q','V'],\n",
    "          ['H','Z','R','W','C','B'],\n",
    "          ['F','Q','R','J'],\n",
    "          ['Z','S','W','H','F','N','M','T'],\n",
    "          ['G','F','W','L','N','Q','P'],\n",
    "          ['L','P','W'],\n",
    "          ['V','B','D','R','G','C','Q','J'],\n",
    "          ['Z','Q','N','B','W'],\n",
    "          ['H','L','F','C','G','T','J']]\n",
    "\n",
    "# crates = [['Z','N'],\n",
    "#           ['M','C','D'],\n",
    "#           ['P']]\n",
    "\n",
    "with open('data/day05.csv','r') as data:\n",
    "    row = csv.reader(data)\n",
    "    data = [i[0] for i in row]\n",
    "    move = [int(r.split(' ')[1]) for r in data]\n",
    "    movefrom = [int(r.split(' ')[3]) - 1 for r in data]\n",
    "    moveto = [int(r.split(' ')[5]) - 1 for r in data]\n",
    "    row_count = sum(1 for i in data)\n",
    "\n",
    "\n",
    "# PART 1\n",
    "cratesOne = copy.deepcopy(crates)\n",
    "for i in range(row_count):\n",
    "    moveCrateFrom = movefrom[i]\n",
    "    moveCrateTo = moveto[i]\n",
    "    numberOfCrates = move[i]\n",
    "    for j in range(numberOfCrates):\n",
    "        cratesOne[moveCrateTo].append(cratesOne[moveCrateFrom].pop(-1))\n",
    "\n",
    "# PART 2\n",
    "cratesTwo = copy.deepcopy(crates)\n",
    "for i in range(row_count):\n",
    "    moveCrateFrom = movefrom[i]\n",
    "    moveCrateTo = moveto[i]\n",
    "    numberOfCrates = move[i]\n",
    "    for j in reversed(range(1, numberOfCrates + 1)):\n",
    "        cratesTwo[moveCrateTo].append(cratesTwo[moveCrateFrom].pop(-j))\n",
    "\n",
    "string1 = ''\n",
    "for i in range(len(cratesOne)):\n",
    "    string1 += (cratesOne[i][-1])\n",
    "\n",
    "string2 = ''\n",
    "for i in range(len(cratesTwo)):\n",
    "    string2 += (cratesTwo[i][-1])\n",
    "\n",
    "print(f\"answer part 1: {string1}\")\n",
    "print(f\"answer part 2: {string2}\")\n",
    "print(f\"runtime: {time.time() - start}\")"
   ]
  }
 ],
 "metadata": {
  "kernelspec": {
   "display_name": "Python 3",
   "language": "python",
   "name": "python3"
  },
  "language_info": {
   "codemirror_mode": {
    "name": "ipython",
    "version": 2
   },
   "file_extension": ".py",
   "mimetype": "text/x-python",
   "name": "python",
   "nbconvert_exporter": "python",
   "pygments_lexer": "ipython2",
   "version": "2.7.6"
  }
 },
 "nbformat": 4,
 "nbformat_minor": 0
}