{
 "cells": [
  {
   "cell_type": "code",
   "execution_count": 30,
   "metadata": {
    "collapsed": true
   },
   "outputs": [
    {
     "name": "stdout",
     "output_type": "stream",
     "text": [
      "1080 dcmv\n",
      "3645 sblmzdwqcrftvn\n",
      "runtime: 0.01510000228881836\n"
     ]
    }
   ],
   "source": [
    "\n",
    "import csv\n",
    "import time\n",
    "from collections import Counter\n",
    "\n",
    "start = time.time()\n",
    "\n",
    "with open('data/day06.csv','r') as data:\n",
    "    row = csv.reader(data)\n",
    "    data = [i[0] for i in row][0]\n",
    "    char_count = sum(1 for i in data)\n",
    "\n",
    "pos = 0\n",
    "found = False\n",
    "marker = ''\n",
    "for i in range(char_count):\n",
    "    if len(marker) == 4:\n",
    "        marker = marker[1:] + data[i]\n",
    "        if len(Counter(marker).keys()) == 4:\n",
    "            pos = i + 1\n",
    "            break\n",
    "    else:\n",
    "        marker += data[i]\n",
    "\n",
    "posTwo = 0\n",
    "markerTwo = ''\n",
    "for i in range(char_count):\n",
    "    if len(markerTwo) == 14:\n",
    "        markerTwo = markerTwo[1:] + data[i]\n",
    "        if len(Counter(markerTwo).keys()) == 14:\n",
    "            posTwo = i + 1\n",
    "            break\n",
    "    else:\n",
    "        markerTwo += data[i]\n",
    "\n",
    "print(f\"answer part 1: {pos}\")\n",
    "print(f\"answer part 2: {posTwo}\")\n",
    "print(f\"runtime: {time.time() - start}\")"
   ]
  }
 ],
 "metadata": {
  "kernelspec": {
   "display_name": "Python 3",
   "language": "python",
   "name": "python3"
  },
  "language_info": {
   "codemirror_mode": {
    "name": "ipython",
    "version": 2
   },
   "file_extension": ".py",
   "mimetype": "text/x-python",
   "name": "python",
   "nbconvert_exporter": "python",
   "pygments_lexer": "ipython2",
   "version": "2.7.6"
  }
 },
 "nbformat": 4,
 "nbformat_minor": 0
}