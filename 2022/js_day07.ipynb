{
 "cells": [
  {
   "cell_type": "code",
   "execution_count": 124,
   "metadata": {
    "collapsed": true
   },
   "outputs": [
    {
     "name": "stdout",
     "output_type": "stream",
     "text": [
      "answer part 1: 1118405.0\n",
      "answer part 2: 12545514.0\n"
     ]
    }
   ],
   "source": [
    "with open('data/day07.csv') as f:\n",
    "    r = f.read().split('\\n')\n",
    "\n",
    "dir = {}\n",
    "curdir = []\n",
    "structure = {}\n",
    "\n",
    "i = 0\n",
    "for l in r:\n",
    "    if '$ cd ' in l and not '$ cd ..' in l:\n",
    "        c = str(i) + l.split(' cd ')[1] # added i to folder because they are not unique\n",
    "        dir[c] = 0\n",
    "        curdir.append(c)\n",
    "        structure[c] = []\n",
    "        if len(curdir) > 1:\n",
    "            structure[curdir[-2]].append(c)\n",
    "        i += 1\n",
    "    elif '$ cd ..' in l:\n",
    "        curdir.pop(-1)\n",
    "    elif l.split(' ')[0].isdigit():\n",
    "        dir[curdir[-1]] += float(l.split(' ')[0])\n",
    "\n",
    "def get_size(folder):\n",
    "    size = 0\n",
    "    if len(structure[folder]) > 0:\n",
    "        for d in structure[folder]:\n",
    "            tmp = get_size(d)\n",
    "            if not tmp is None:\n",
    "                size += tmp\n",
    "        if not dir[folder] is None:\n",
    "            size += dir[folder]\n",
    "        return size\n",
    "    else:\n",
    "        if not dir[folder] is None:\n",
    "            size += dir[folder]\n",
    "        return size\n",
    "\n",
    "foldersize = {}\n",
    "for folder in structure.keys():\n",
    "    foldersize[folder] = get_size(folder)\n",
    "\n",
    "sumOfFolder = 0\n",
    "for directory in foldersize:\n",
    "    if foldersize[directory] <= 100000:\n",
    "        sumOfFolder += foldersize[directory]\n",
    "\n",
    "newFoldersize = {k: v for k, v in foldersize.items() if v >= (30000000 - (70000000 - foldersize['0/']))}\n",
    "\n",
    "print(f\"answer part 1: {sumOfFolder}\")\n",
    "print(f\"answer part 2: {min(newFoldersize.values())}\")\n",
    "\n"
   ]
  }
 ],
 "metadata": {
  "kernelspec": {
   "display_name": "Python 3",
   "language": "python",
   "name": "python3"
  },
  "language_info": {
   "codemirror_mode": {
    "name": "ipython",
    "version": 2
   },
   "file_extension": ".py",
   "mimetype": "text/x-python",
   "name": "python",
   "nbconvert_exporter": "python",
   "pygments_lexer": "ipython2",
   "version": "2.7.6"
  }
 },
 "nbformat": 4,
 "nbformat_minor": 0
}