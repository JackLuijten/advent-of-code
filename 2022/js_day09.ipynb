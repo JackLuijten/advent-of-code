{
 "cells": [
  {
   "cell_type": "code",
   "execution_count": 115,
   "metadata": {
    "collapsed": true,
    "pycharm": {
     "name": "#%%\n"
    }
   },
   "outputs": [
    {
     "name": "stdout",
     "output_type": "stream",
     "text": [
      "6212\n",
      "2522\n"
     ]
    }
   ],
   "source": [
    "import math\n",
    "\n",
    "with open('data/day09.csv') as f:\n",
    "    input = f.read().split('\\n')\n",
    "    data = [j for j in input]\n",
    "\n",
    "T = [0,0]\n",
    "H = [0,0]\n",
    "visited = [[0,0]]\n",
    "\n",
    "def calcAndMove(H, T):\n",
    "    xdist = (H[0] - T[0])\n",
    "    ydist = (H[1] - T[1])\n",
    "    # print(H, T, xdist, ydist)\n",
    "    if math.sqrt(ydist ** 2 + xdist ** 2) > math.sqrt(2):\n",
    "        if ydist == 0 or xdist == 0:\n",
    "            T = [int(T[0] + (xdist / 2)), int(T[1] + (ydist / 2))]\n",
    "        elif abs(xdist) > 1 and abs(ydist) > 1:\n",
    "            T = [int(T[0] + (xdist / 2)), int(T[1] + (ydist / 2))]\n",
    "        elif abs(xdist) > 1:\n",
    "            T = [int(T[0] + (xdist / 2)), H[1]]\n",
    "        elif abs(ydist) > 1:\n",
    "            T = [H[0], int(T[1] + (ydist / 2))]\n",
    "        else:\n",
    "            \"help\"\n",
    "    return T\n",
    "\n",
    "for d in data:\n",
    "    directions, distance = d.split(' ')\n",
    "    for i in range(1, int(distance) + 1):\n",
    "        if directions == 'L':\n",
    "            H[0] -= 1\n",
    "        elif directions == 'U':\n",
    "           H[1] += 1\n",
    "        elif directions == 'R':\n",
    "            H[0] += 1\n",
    "        elif directions == 'D':\n",
    "            H[1] -= 1\n",
    "        T = calcAndMove(H, T)\n",
    "        if not T in visited:\n",
    "            visited.append(T)\n",
    "\n",
    "ropes = [[0,0], [0,0], [0,0], [0,0], [0,0], [0,0], [0,0], [0,0], [0,0], [0,0]]\n",
    "visited2 = [[0,0]]\n",
    "\n",
    "for d in data:\n",
    "    directions, distance = d.split(' ')\n",
    "    for i in range(1, int(distance) + 1):\n",
    "        if directions == 'L':\n",
    "            ropes[0][0] -= 1\n",
    "        elif directions == 'U':\n",
    "            ropes[0][1] += 1\n",
    "        elif directions == 'R':\n",
    "            ropes[0][0] += 1\n",
    "        elif directions == 'D':\n",
    "            ropes[0][1] -= 1\n",
    "\n",
    "        for r in range(len(ropes) - 1):\n",
    "            ropes[r+1] = calcAndMove(ropes[r], ropes[r+1])\n",
    "        if not ropes[-1] in visited2:\n",
    "            visited2.append(ropes[-1])\n",
    "\n",
    "# print(visited)\n",
    "print(len(visited))\n",
    "\n",
    "# print(visited2)\n",
    "print(len(visited2))\n",
    "\n",
    "# 3145 TOO HIGH\n",
    "# 2570 TOO HIGH\n",
    "# 2522 CORRECT WHOOPWHOOP!!!\n",
    "# in the end, leading knot moving diagonal while already diagonal --> made the difference! (line 19)\n"
   ]
  }
 ],
 "metadata": {
  "kernelspec": {
   "display_name": "Python 3",
   "language": "python",
   "name": "python3"
  },
  "language_info": {
   "codemirror_mode": {
    "name": "ipython",
    "version": 2
   },
   "file_extension": ".py",
   "mimetype": "text/x-python",
   "name": "python",
   "nbconvert_exporter": "python",
   "pygments_lexer": "ipython2",
   "version": "2.7.6"
  }
 },
 "nbformat": 4,
 "nbformat_minor": 0
}