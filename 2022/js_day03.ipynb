{
 "cells": [
  {
   "cell_type": "code",
   "execution_count": 114,
   "metadata": {
    "collapsed": true
   },
   "outputs": [
    {
     "name": "stdout",
     "output_type": "stream",
     "text": [
      "answer part 1: 7848\n",
      "answer part 2: 2616\n",
      "runtime: 0.0\n"
     ]
    }
   ],
   "source": [
    "import csv\n",
    "import time\n",
    "start = time.time()\n",
    "\n",
    "with open('data/day03.csv','r') as data:\n",
    "    row = csv.reader(data)\n",
    "    data = [i[0] for i in row]\n",
    "    row_count = sum(1 for i in data)\n",
    "\n",
    "    itemvalue = 0\n",
    "    for datapoint in data:\n",
    "        numberItems = int(len(datapoint) / 2)\n",
    "        compartment1 = datapoint[:numberItems]\n",
    "        compartment2 = datapoint[numberItems:]\n",
    "        for i in range(numberItems):\n",
    "            if compartment1[i] in compartment2:\n",
    "                lettervalue = ord(compartment1[i])\n",
    "                if lettervalue <= 90:\n",
    "                    itemvalue += lettervalue - 38\n",
    "                else:\n",
    "                    itemvalue += lettervalue - 96\n",
    "                items.append(compartment1[i])\n",
    "                break\n",
    "\n",
    "    badgevalue = 0\n",
    "    for i in range(row_count):\n",
    "        if i % 3 == 0:\n",
    "            possible_badge = data[i]\n",
    "        else:\n",
    "            common = []\n",
    "            for l in data[i]:\n",
    "                if l in possible_badge:\n",
    "                    common.append(l)\n",
    "            possible_badge = common[:]\n",
    "            if i % 3 == 2:\n",
    "                lettervalue = ord(possible_badge[0])\n",
    "                if lettervalue <= 90:\n",
    "                    badgevalue += (lettervalue - 38)\n",
    "                else:\n",
    "                    badgevalue += (lettervalue - 96)\n",
    "\n",
    "print(f\"answer part 1: {itemvalue}\")\n",
    "print(f\"answer part 2: {badgevalue}\")\n",
    "print(f\"runtime: {time.time() - start}\")"
   ]
  }
 ],
 "metadata": {
  "kernelspec": {
   "display_name": "Python 3",
   "language": "python",
   "name": "python3"
  },
  "language_info": {
   "codemirror_mode": {
    "name": "ipython",
    "version": 2
   },
   "file_extension": ".py",
   "mimetype": "text/x-python",
   "name": "python",
   "nbconvert_exporter": "python",
   "pygments_lexer": "ipython2",
   "version": "2.7.6"
  }
 },
 "nbformat": 4,
 "nbformat_minor": 0
}