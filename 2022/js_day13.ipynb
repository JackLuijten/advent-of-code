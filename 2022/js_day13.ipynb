{
 "cells": [
  {
   "cell_type": "code",
   "execution_count": 65,
   "metadata": {
    "collapsed": true
   },
   "outputs": [
    {
     "name": "stdout",
     "output_type": "stream",
     "text": [
      "5798\n",
      "26200\n"
     ]
    }
   ],
   "source": [
    "import json\n",
    "\n",
    "with open('data/day13.csv') as f:\n",
    "    data = [[json.loads(i) for i in j.split('\\n')] for j in f.read().split('\\n\\n')]\n",
    "\n",
    "def compare(left, right):\n",
    "    result = 'Continue'\n",
    "    if len(left) == 0:\n",
    "        if len(right) > 0:\n",
    "            result = True\n",
    "    elif len(right) == 0:\n",
    "        result = False\n",
    "    elif type(left[0]) == int and type(right[0]) == int:\n",
    "        if left[0] < right[0]:\n",
    "            result = True\n",
    "        elif left[0] == right[0]:\n",
    "            result = compare(left[1:], right[1:])\n",
    "        else:\n",
    "            result = False\n",
    "    elif type(left[0]) == type(right[0]) == list:\n",
    "        result = compare(left[0], right[0])\n",
    "    elif type(left[0]) == int:\n",
    "        result = compare(left, right[0])\n",
    "    elif type(right[0]) == int:\n",
    "        result = compare(left[0], right)\n",
    "    return result\n",
    "\n",
    "def compare_input(leftInput, rightInput):\n",
    "    j = 0\n",
    "    returnValue = 'Continue'\n",
    "    while returnValue == 'Continue':\n",
    "        if len(leftInput) > j:\n",
    "            if type(leftInput[j]) == list:\n",
    "                left = leftInput[j]\n",
    "            else:\n",
    "                left = [leftInput[j]]\n",
    "        else:\n",
    "            left = []\n",
    "        if len(rightInput) > j:\n",
    "            if type(rightInput[j]) == list:\n",
    "                right = rightInput[j]\n",
    "            else:\n",
    "                right = [rightInput[j]]\n",
    "        else:\n",
    "            right = []\n",
    "        if left == right:\n",
    "            if len(leftInput) < len(rightInput):\n",
    "                returnValue = True\n",
    "            elif len(leftInput) >= len(rightInput):\n",
    "                returnValue = False\n",
    "        else:\n",
    "            returnValue = compare(left, right)\n",
    "        j += 1\n",
    "    return returnValue\n",
    "\n",
    "correct = 0\n",
    "correctList = []\n",
    "\n",
    "for i in range(len(data)):\n",
    "    returnValue = compare_input(data[i][0], data[i][1])\n",
    "    correct += (1+ i) * returnValue\n",
    "    correctList.append(returnValue)\n",
    "\n",
    "print(correct)\n",
    "\n",
    "newList = [[[2]], [[6]]]\n",
    "for item in data:\n",
    "    newList.append(item[0]), newList.append(item[1])\n",
    "\n",
    "for n in range(len(newList) - 1, 0, -1):\n",
    "    already_sorted = True\n",
    "    for i in range(n):\n",
    "        if not compare_input(newList[i], newList[i + 1]):\n",
    "            newList[i], newList[i + 1] = newList[i + 1], newList[i]\n",
    "            already_sorted = False\n",
    "    if already_sorted:\n",
    "        break\n",
    "\n",
    "print((newList.index([[2]]) + 1) * (newList.index([[6]]) + 1))\n"
   ]
  }
 ],
 "metadata": {
  "kernelspec": {
   "display_name": "Python 3",
   "language": "python",
   "name": "python3"
  },
  "language_info": {
   "codemirror_mode": {
    "name": "ipython",
    "version": 2
   },
   "file_extension": ".py",
   "mimetype": "text/x-python",
   "name": "python",
   "nbconvert_exporter": "python",
   "pygments_lexer": "ipython2",
   "version": "2.7.6"
  }
 },
 "nbformat": 4,
 "nbformat_minor": 0
}