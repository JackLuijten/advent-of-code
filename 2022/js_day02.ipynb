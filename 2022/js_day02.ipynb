{
 "cells": [
  {
   "cell_type": "code",
   "execution_count": 21,
   "metadata": {
    "collapsed": true
   },
   "outputs": [
    {
     "name": "stdout",
     "output_type": "stream",
     "text": [
      "12458\n",
      "12683\n",
      "time it took: 0.0\n"
     ]
    }
   ],
   "source": [
    "import time\n",
    "start = time.time()\n",
    "\n",
    "import csv\n",
    "\n",
    "game_data_part1 = {\"A Y\": 8, #Rock Paper Win\n",
    "             \"B Y\": 5, #Paper Paper Equal\n",
    "             \"C Y\": 2, #Scissor Paper Loose\n",
    "             \"A X\": 4, #Rock Rock equal\n",
    "             \"B X\": 1, #Paper Rock loose\n",
    "             \"C X\": 7, #Scissor Rock win\n",
    "             \"A Z\": 3, #Rock Scissor loose\n",
    "             \"B Z\": 9, #Paper Scissor win\n",
    "             \"C Z\": 6,}#Scissor Scissor equal\n",
    "\n",
    "game_data_part2 = {\"A Y\": 4, #Rock Draw Rock = 1\n",
    "             \"B Y\": 5, #Paper Draw Paper = 2\n",
    "             \"C Y\": 6, #Scissor Draw Scissor = 3\n",
    "             \"A X\": 3, #Rock loose Scissor = 3\n",
    "             \"B X\": 1, #Paper loose rock = 1\n",
    "             \"C X\": 2, #Scissor Loose paper = 2\n",
    "             \"A Z\": 8, #Rock Win Paper = 3\n",
    "             \"B Z\": 9, #Paper win Scissor = 3\n",
    "             \"C Z\": 7,}#Scissor Win Rock = 3\n",
    "\n",
    "with open('data/day02.csv','r') as data:\n",
    "    rowData = csv.reader(data)\n",
    "    score = 0\n",
    "    score2 = 0\n",
    "    for datapoint in rowData:\n",
    "        score += game_data_part1[datapoint[0]]\n",
    "        score2 += game_data_part2[datapoint[0]]\n",
    "\n",
    "print(score)\n",
    "print(score2)\n",
    "print(f\"time it took: {time.time() - start}\")"
   ]
  }
 ],
 "metadata": {
  "kernelspec": {
   "display_name": "Python 3",
   "language": "python",
   "name": "python3"
  },
  "language_info": {
   "codemirror_mode": {
    "name": "ipython",
    "version": 2
   },
   "file_extension": ".py",
   "mimetype": "text/x-python",
   "name": "python",
   "nbconvert_exporter": "python",
   "pygments_lexer": "ipython2",
   "version": "2.7.6"
  }
 },
 "nbformat": 4,
 "nbformat_minor": 0
}