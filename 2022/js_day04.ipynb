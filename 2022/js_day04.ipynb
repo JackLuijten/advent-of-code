{
 "cells": [
  {
   "cell_type": "code",
   "execution_count": 42,
   "metadata": {
    "collapsed": true,
    "pycharm": {
     "name": "#%%\n"
    }
   },
   "outputs": [
    {
     "name": "stdout",
     "output_type": "stream",
     "text": [
      "answer part 1: 448\n",
      "answer part 2: 794\n",
      "runtime: 0.01359105110168457\n",
      "answer part 1: 448\n",
      "answer part 2: 794\n",
      "runtime: 0.0\n"
     ]
    }
   ],
   "source": [
    "import csv\n",
    "import time\n",
    "start = time.time()\n",
    "\n",
    "with open('data/day04.csv','r') as data:\n",
    "    row = csv.reader(data)\n",
    "    data = [i for i in row]\n",
    "    rowdata = [[i.split('-') for i in j] for j in data]\n",
    "    rowdata = [[[int(i) for i in j] for j in k] for k in rowdata]\n",
    "    row_count = sum(1 for i in data)\n",
    "\n",
    "# Part1, take1, got me the answer\n",
    "FullyContained = 0\n",
    "for row in rowdata:\n",
    "    if (row[0][0] >= row[1][0] and row[0][1] <= row[1][1]) or (row[1][0] >= row[0][0] and row[1][1] <= row[0][1]):\n",
    "        FullyContained += 1\n",
    "\n",
    "# Part2, take1, got me the answer\n",
    "overlap = 0\n",
    "for row in rowdata:\n",
    "    overlap_small_first = row[0][0] <= row[1][0] <= row[0][1]\n",
    "    overlap_large_first = row[0][0] <= row[1][1] <= row[0][1]\n",
    "    overlap_small_second = row[1][0] <= row[0][0] <= row[1][1]\n",
    "    overlap_large_second = row[1][0] <= row[0][1] <= row[1][1]\n",
    "    if overlap_small_first or overlap_large_first or overlap_small_second or overlap_large_second:\n",
    "        overlap += 1\n",
    "\n",
    "print(f\"answer part 1: {FullyContained}\")\n",
    "print(f\"answer part 2: {overlap}\")\n",
    "print(f\"runtime: {time.time() - start}\")\n",
    "start_two = time.time()\n",
    "\n",
    "# Part 1 and 2, take 2 (working with sets) LOT EASIER!!!!\n",
    "FullyContainedSet = 0\n",
    "overlapSet = row_count\n",
    "for row in rowdata:\n",
    "    first_set = set(range(row[0][0], row[0][1] + 1))\n",
    "    second_set = set(range(row[1][0], row[1][1] + 1))\n",
    "    if first_set.issubset(second_set) or second_set.issubset(first_set):\n",
    "        FullyContainedSet += 1\n",
    "    if first_set.isdisjoint(second_set):\n",
    "        overlapSet -= 1\n",
    "\n",
    "print(f\"answer part 1: {FullyContainedSet}\")\n",
    "print(f\"answer part 2: {overlapSet}\")\n",
    "print(f\"runtime: {time.time() - start_two}\")"
   ]
  }
 ],
 "metadata": {
  "kernelspec": {
   "display_name": "Python 3",
   "language": "python",
   "name": "python3"
  },
  "language_info": {
   "codemirror_mode": {
    "name": "ipython",
    "version": 2
   },
   "file_extension": ".py",
   "mimetype": "text/x-python",
   "name": "python",
   "nbconvert_exporter": "python",
   "pygments_lexer": "ipython2",
   "version": "2.7.6"
  }
 },
 "nbformat": 4,
 "nbformat_minor": 0
}