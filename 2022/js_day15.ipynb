{
 "cells": [
  {
   "cell_type": "code",
   "execution_count": 61,
   "metadata": {
    "collapsed": true
   },
   "outputs": [
    {
     "name": "stdout",
     "output_type": "stream",
     "text": [
      "5461729\n",
      "(2655411, 3166538)\n",
      "10621647166538\n",
      "(2655411, 3166538)\n",
      "10621647166538\n",
      "(2655411, 3166538)\n",
      "10621647166538\n",
      "(2655411, 3166538)\n",
      "10621647166538\n"
     ]
    }
   ],
   "source": [
    "import re\n",
    "\n",
    "with open('data/day15.csv') as f:\n",
    "    data = f.read().strip().split('\\n')\n",
    "\n",
    "input = []\n",
    "\n",
    "for row in data:\n",
    "    match = re.search(r\"Sensor at x=(-?\\d+), y=(-?\\d+): closest beacon is at x=(-?\\d+), y=(-?\\d+)\", row)\n",
    "    x1, y1, x2, y2 = map(int, match.groups())\n",
    "    input.append([x1, y1, x2, y2])\n",
    "\n",
    "empty = set()\n",
    "y_value = 2000000\n",
    "\n",
    "def get_empty_row(coordinates, y_value):\n",
    "    x1, y1, x2, y2 = coordinates\n",
    "    distance = abs(x1 - x2) + abs(y1 - y2)\n",
    "    if y_value in range(y1 - distance, y1 + distance + 1):\n",
    "        for i in range(distance - abs(y_value - y1), -1, -1):\n",
    "                empty.add((x1 + i, y_value))\n",
    "                empty.add((x1 - i, y_value))\n",
    "        if y2 == y_value:\n",
    "            empty.remove((x2, y2))\n",
    "\n",
    "for i in input:\n",
    "    get_empty_row(i, y_value)\n",
    "\n",
    "print(len(empty))\n",
    "\n",
    "possible = set()\n",
    "max_value = 4000000\n",
    "\n",
    "def check_location(location):\n",
    "    x, y = location\n",
    "    possible = True\n",
    "    finished = False\n",
    "    while possible and not finished:\n",
    "        for i in input:\n",
    "            x1, y1, x2, y2 = i\n",
    "            maxdistance = abs(x1 - x2) + abs(y1 - y2) + 1\n",
    "            distance = (abs(x - x1) + abs(y - y1) + 1)\n",
    "            if distance > maxdistance:\n",
    "                continue\n",
    "            else:\n",
    "                possible = False\n",
    "        finished = True\n",
    "    if possible:\n",
    "        return location\n",
    "\n",
    "def get_possible_locations(coordinates):\n",
    "    x1, y1, x2, y2 = coordinates\n",
    "    distance = abs(x1 - x2) + abs(y1 - y2) + 1\n",
    "    for i in range(x1 - distance, x1 + distance + 1):\n",
    "        distance_left = distance - abs(x1 - i)\n",
    "        for j in range(y1 - distance_left, y1 + distance_left + 1, max(2, distance_left * 2)):\n",
    "            if 0 <= i <= max_value and 0 <= j <= max_value:\n",
    "                if check_location([i, j]):\n",
    "                    return i, j\n",
    "    return False\n",
    "\n",
    "finished = False\n",
    "while not finished:\n",
    "    for i in input:\n",
    "        result = get_possible_locations(i)\n",
    "        if result:\n",
    "            print(result)\n",
    "            print(result[0] * 4000000 + result[1])\n",
    "            finished = True\n",
    "\n",
    "\n"
   ]
  }
 ],
 "metadata": {
  "kernelspec": {
   "display_name": "Python 3",
   "language": "python",
   "name": "python3"
  },
  "language_info": {
   "codemirror_mode": {
    "name": "ipython",
    "version": 2
   },
   "file_extension": ".py",
   "mimetype": "text/x-python",
   "name": "python",
   "nbconvert_exporter": "python",
   "pygments_lexer": "ipython2",
   "version": "2.7.6"
  }
 },
 "nbformat": 4,
 "nbformat_minor": 0
}